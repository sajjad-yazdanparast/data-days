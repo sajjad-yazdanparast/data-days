{
 "cells": [
  {
   "cell_type": "code",
   "execution_count": 95,
   "metadata": {},
   "outputs": [],
   "source": [
    "import pandas as pd\n",
    "import numpy as np \n",
    "import matplotlib.pyplot as plt\n",
    "import seaborn as sns"
   ]
  },
  {
   "cell_type": "code",
   "execution_count": 96,
   "metadata": {},
   "outputs": [],
   "source": [
    "import copy"
   ]
  },
  {
   "cell_type": "code",
   "execution_count": 3,
   "metadata": {},
   "outputs": [],
   "source": [
    "from sklearn.preprocessing import StandardScaler"
   ]
  },
  {
   "cell_type": "code",
   "execution_count": 4,
   "metadata": {},
   "outputs": [],
   "source": [
    "ad = pd.read_csv('//media//sajjad//New Volume//Dataset//datadays2020_contest_public_dataset//ad.csv')"
   ]
  },
  {
   "cell_type": "code",
   "execution_count": 5,
   "metadata": {},
   "outputs": [],
   "source": [
    "ad_image = pd.read_csv('/media/sajjad/New Volume/Dataset/datadays2020_contest_public_dataset/ad_image.csv')"
   ]
  },
  {
   "cell_type": "code",
   "execution_count": 6,
   "metadata": {},
   "outputs": [],
   "source": [
    "ad_title = pd.read_csv('/media/sajjad/New Volume/Dataset/datadays2020_contest_public_dataset/ad_title.csv')"
   ]
  },
  {
   "cell_type": "code",
   "execution_count": 7,
   "metadata": {},
   "outputs": [],
   "source": [
    "click_test = pd.read_csv('/media/sajjad/New Volume/Dataset/datadays2020_contest_public_dataset/click_test.csv')"
   ]
  },
  {
   "cell_type": "code",
   "execution_count": 8,
   "metadata": {},
   "outputs": [],
   "source": [
    "click_train = pd.read_csv('/media/sajjad/New Volume/Dataset/datadays2020_contest_public_dataset/click_train.csv')"
   ]
  },
  {
   "cell_type": "code",
   "execution_count": 266,
   "metadata": {},
   "outputs": [],
   "source": [
    "event = pd.read_csv('/media/sajjad/New Volume/Dataset/datadays2020_contest_public_dataset/event.csv')\n",
    "event.drop('userId',axis=1,inplace=True)"
   ]
  },
  {
   "cell_type": "code",
   "execution_count": 10,
   "metadata": {},
   "outputs": [],
   "source": [
    "page = pd.read_csv('/media/sajjad/New Volume/Dataset/datadays2020_contest_public_dataset/page.csv')"
   ]
  },
  {
   "cell_type": "code",
   "execution_count": 11,
   "metadata": {},
   "outputs": [],
   "source": [
    "page_topic = pd.read_csv('/media/sajjad/New Volume/Dataset/datadays2020_contest_public_dataset/page_topic.csv')"
   ]
  },
  {
   "cell_type": "code",
   "execution_count": 10,
   "metadata": {},
   "outputs": [],
   "source": [
    "# user_page_view = pd.read_csv('/media/sajjad/New Volume/Dataset/datadays2020_contest_public_dataset/user_page_view.csv')"
   ]
  },
  {
   "cell_type": "code",
   "execution_count": 268,
   "metadata": {},
   "outputs": [
    {
     "data": {
      "text/html": "<div>\n<style scoped>\n    .dataframe tbody tr th:only-of-type {\n        vertical-align: middle;\n    }\n\n    .dataframe tbody tr th {\n        vertical-align: top;\n    }\n\n    .dataframe thead th {\n        text-align: right;\n    }\n</style>\n<table border=\"1\" class=\"dataframe\">\n  <thead>\n    <tr style=\"text-align: right;\">\n      <th></th>\n      <th>displayId</th>\n      <th>timestamp</th>\n      <th>pageId</th>\n      <th>widgetId</th>\n      <th>device</th>\n      <th>OS</th>\n      <th>browser</th>\n      <th>adId</th>\n      <th>clicked</th>\n    </tr>\n  </thead>\n  <tbody>\n    <tr>\n      <td>0</td>\n      <td>4706262</td>\n      <td>1578429005696</td>\n      <td>3543873</td>\n      <td>6262</td>\n      <td>0</td>\n      <td>0</td>\n      <td>0</td>\n      <td>6</td>\n      <td>1</td>\n    </tr>\n    <tr>\n      <td>1</td>\n      <td>4706262</td>\n      <td>1578429005696</td>\n      <td>3543873</td>\n      <td>6262</td>\n      <td>0</td>\n      <td>0</td>\n      <td>0</td>\n      <td>15</td>\n      <td>0</td>\n    </tr>\n    <tr>\n      <td>2</td>\n      <td>4706262</td>\n      <td>1578429005696</td>\n      <td>3543873</td>\n      <td>6262</td>\n      <td>0</td>\n      <td>0</td>\n      <td>0</td>\n      <td>3610</td>\n      <td>0</td>\n    </tr>\n    <tr>\n      <td>3</td>\n      <td>4706267</td>\n      <td>1578429007726</td>\n      <td>6245475</td>\n      <td>607</td>\n      <td>1</td>\n      <td>3</td>\n      <td>0</td>\n      <td>5279</td>\n      <td>0</td>\n    </tr>\n    <tr>\n      <td>4</td>\n      <td>4706267</td>\n      <td>1578429007726</td>\n      <td>6245475</td>\n      <td>607</td>\n      <td>1</td>\n      <td>3</td>\n      <td>0</td>\n      <td>5271</td>\n      <td>0</td>\n    </tr>\n    <tr>\n      <td>5</td>\n      <td>4706267</td>\n      <td>1578429007726</td>\n      <td>6245475</td>\n      <td>607</td>\n      <td>1</td>\n      <td>3</td>\n      <td>0</td>\n      <td>5316</td>\n      <td>0</td>\n    </tr>\n    <tr>\n      <td>6</td>\n      <td>4706267</td>\n      <td>1578429007726</td>\n      <td>6245475</td>\n      <td>607</td>\n      <td>1</td>\n      <td>3</td>\n      <td>0</td>\n      <td>237</td>\n      <td>0</td>\n    </tr>\n    <tr>\n      <td>7</td>\n      <td>4706267</td>\n      <td>1578429007726</td>\n      <td>6245475</td>\n      <td>607</td>\n      <td>1</td>\n      <td>3</td>\n      <td>0</td>\n      <td>3475</td>\n      <td>1</td>\n    </tr>\n    <tr>\n      <td>8</td>\n      <td>4706260</td>\n      <td>1578429012060</td>\n      <td>4416499</td>\n      <td>11458</td>\n      <td>0</td>\n      <td>0</td>\n      <td>1</td>\n      <td>3634</td>\n      <td>0</td>\n    </tr>\n    <tr>\n      <td>9</td>\n      <td>4706260</td>\n      <td>1578429012060</td>\n      <td>4416499</td>\n      <td>11458</td>\n      <td>0</td>\n      <td>0</td>\n      <td>1</td>\n      <td>49</td>\n      <td>1</td>\n    </tr>\n    <tr>\n      <td>10</td>\n      <td>4706260</td>\n      <td>1578429012060</td>\n      <td>4416499</td>\n      <td>11458</td>\n      <td>0</td>\n      <td>0</td>\n      <td>1</td>\n      <td>5332</td>\n      <td>0</td>\n    </tr>\n    <tr>\n      <td>11</td>\n      <td>4706255</td>\n      <td>1578429017218</td>\n      <td>6246028</td>\n      <td>9358</td>\n      <td>0</td>\n      <td>0</td>\n      <td>0</td>\n      <td>3614</td>\n      <td>1</td>\n    </tr>\n    <tr>\n      <td>12</td>\n      <td>4706255</td>\n      <td>1578429017218</td>\n      <td>6246028</td>\n      <td>9358</td>\n      <td>0</td>\n      <td>0</td>\n      <td>0</td>\n      <td>3609</td>\n      <td>0</td>\n    </tr>\n    <tr>\n      <td>13</td>\n      <td>4706255</td>\n      <td>1578429017218</td>\n      <td>6246028</td>\n      <td>9358</td>\n      <td>0</td>\n      <td>0</td>\n      <td>0</td>\n      <td>5375</td>\n      <td>0</td>\n    </tr>\n    <tr>\n      <td>14</td>\n      <td>4706255</td>\n      <td>1578429017218</td>\n      <td>6246028</td>\n      <td>9358</td>\n      <td>0</td>\n      <td>0</td>\n      <td>0</td>\n      <td>49</td>\n      <td>0</td>\n    </tr>\n    <tr>\n      <td>15</td>\n      <td>4706256</td>\n      <td>1578429021388</td>\n      <td>5327047</td>\n      <td>9358</td>\n      <td>0</td>\n      <td>0</td>\n      <td>0</td>\n      <td>3614</td>\n      <td>0</td>\n    </tr>\n    <tr>\n      <td>16</td>\n      <td>4706256</td>\n      <td>1578429021388</td>\n      <td>5327047</td>\n      <td>9358</td>\n      <td>0</td>\n      <td>0</td>\n      <td>0</td>\n      <td>3609</td>\n      <td>0</td>\n    </tr>\n    <tr>\n      <td>17</td>\n      <td>4706256</td>\n      <td>1578429021388</td>\n      <td>5327047</td>\n      <td>9358</td>\n      <td>0</td>\n      <td>0</td>\n      <td>0</td>\n      <td>25</td>\n      <td>1</td>\n    </tr>\n    <tr>\n      <td>18</td>\n      <td>4706256</td>\n      <td>1578429021388</td>\n      <td>5327047</td>\n      <td>9358</td>\n      <td>0</td>\n      <td>0</td>\n      <td>0</td>\n      <td>49</td>\n      <td>0</td>\n    </tr>\n    <tr>\n      <td>19</td>\n      <td>4706235</td>\n      <td>1578429023501</td>\n      <td>6245689</td>\n      <td>9358</td>\n      <td>0</td>\n      <td>0</td>\n      <td>0</td>\n      <td>25</td>\n      <td>1</td>\n    </tr>\n    <tr>\n      <td>20</td>\n      <td>4706235</td>\n      <td>1578429023501</td>\n      <td>6245689</td>\n      <td>9358</td>\n      <td>0</td>\n      <td>0</td>\n      <td>0</td>\n      <td>3609</td>\n      <td>0</td>\n    </tr>\n    <tr>\n      <td>21</td>\n      <td>4706235</td>\n      <td>1578429023501</td>\n      <td>6245689</td>\n      <td>9358</td>\n      <td>0</td>\n      <td>0</td>\n      <td>0</td>\n      <td>3614</td>\n      <td>0</td>\n    </tr>\n    <tr>\n      <td>22</td>\n      <td>4706235</td>\n      <td>1578429023501</td>\n      <td>6245689</td>\n      <td>9358</td>\n      <td>0</td>\n      <td>0</td>\n      <td>0</td>\n      <td>49</td>\n      <td>0</td>\n    </tr>\n    <tr>\n      <td>23</td>\n      <td>4706181</td>\n      <td>1578429029640</td>\n      <td>83625</td>\n      <td>5802</td>\n      <td>0</td>\n      <td>0</td>\n      <td>5</td>\n      <td>5200</td>\n      <td>0</td>\n    </tr>\n    <tr>\n      <td>24</td>\n      <td>4706181</td>\n      <td>1578429029640</td>\n      <td>83625</td>\n      <td>5802</td>\n      <td>0</td>\n      <td>0</td>\n      <td>5</td>\n      <td>4611</td>\n      <td>1</td>\n    </tr>\n    <tr>\n      <td>25</td>\n      <td>4706181</td>\n      <td>1578429029640</td>\n      <td>83625</td>\n      <td>5802</td>\n      <td>0</td>\n      <td>0</td>\n      <td>5</td>\n      <td>4277</td>\n      <td>0</td>\n    </tr>\n    <tr>\n      <td>26</td>\n      <td>4706181</td>\n      <td>1578429029640</td>\n      <td>83625</td>\n      <td>5802</td>\n      <td>0</td>\n      <td>0</td>\n      <td>5</td>\n      <td>5375</td>\n      <td>0</td>\n    </tr>\n    <tr>\n      <td>27</td>\n      <td>4706228</td>\n      <td>1578429035793</td>\n      <td>4096624</td>\n      <td>11458</td>\n      <td>1</td>\n      <td>1</td>\n      <td>4</td>\n      <td>5423</td>\n      <td>0</td>\n    </tr>\n    <tr>\n      <td>28</td>\n      <td>4706228</td>\n      <td>1578429035793</td>\n      <td>4096624</td>\n      <td>11458</td>\n      <td>1</td>\n      <td>1</td>\n      <td>4</td>\n      <td>4209</td>\n      <td>1</td>\n    </tr>\n    <tr>\n      <td>29</td>\n      <td>4706228</td>\n      <td>1578429035793</td>\n      <td>4096624</td>\n      <td>11458</td>\n      <td>1</td>\n      <td>1</td>\n      <td>4</td>\n      <td>22</td>\n      <td>0</td>\n    </tr>\n    <tr>\n      <td>30</td>\n      <td>4706228</td>\n      <td>1578429035793</td>\n      <td>4096624</td>\n      <td>11458</td>\n      <td>1</td>\n      <td>1</td>\n      <td>4</td>\n      <td>5157</td>\n      <td>0</td>\n    </tr>\n    <tr>\n      <td>31</td>\n      <td>4706228</td>\n      <td>1578429035793</td>\n      <td>4096624</td>\n      <td>11458</td>\n      <td>1</td>\n      <td>1</td>\n      <td>4</td>\n      <td>5271</td>\n      <td>0</td>\n    </tr>\n    <tr>\n      <td>32</td>\n      <td>4706228</td>\n      <td>1578429035793</td>\n      <td>4096624</td>\n      <td>11458</td>\n      <td>1</td>\n      <td>1</td>\n      <td>4</td>\n      <td>3324</td>\n      <td>0</td>\n    </tr>\n    <tr>\n      <td>33</td>\n      <td>4706234</td>\n      <td>1578429036317</td>\n      <td>6244430</td>\n      <td>7691</td>\n      <td>0</td>\n      <td>0</td>\n      <td>0</td>\n      <td>4611</td>\n      <td>0</td>\n    </tr>\n    <tr>\n      <td>34</td>\n      <td>4706234</td>\n      <td>1578429036317</td>\n      <td>6244430</td>\n      <td>7691</td>\n      <td>0</td>\n      <td>0</td>\n      <td>0</td>\n      <td>5236</td>\n      <td>0</td>\n    </tr>\n    <tr>\n      <td>35</td>\n      <td>4706234</td>\n      <td>1578429036317</td>\n      <td>6244430</td>\n      <td>7691</td>\n      <td>0</td>\n      <td>0</td>\n      <td>0</td>\n      <td>4657</td>\n      <td>1</td>\n    </tr>\n    <tr>\n      <td>36</td>\n      <td>4706234</td>\n      <td>1578429036317</td>\n      <td>6244430</td>\n      <td>7691</td>\n      <td>0</td>\n      <td>0</td>\n      <td>0</td>\n      <td>4658</td>\n      <td>0</td>\n    </tr>\n    <tr>\n      <td>37</td>\n      <td>4706237</td>\n      <td>1578429039027</td>\n      <td>6246028</td>\n      <td>9358</td>\n      <td>1</td>\n      <td>1</td>\n      <td>0</td>\n      <td>5428</td>\n      <td>1</td>\n    </tr>\n    <tr>\n      <td>38</td>\n      <td>4706237</td>\n      <td>1578429039027</td>\n      <td>6246028</td>\n      <td>9358</td>\n      <td>1</td>\n      <td>1</td>\n      <td>0</td>\n      <td>3077</td>\n      <td>0</td>\n    </tr>\n    <tr>\n      <td>39</td>\n      <td>4706237</td>\n      <td>1578429039027</td>\n      <td>6246028</td>\n      <td>9358</td>\n      <td>1</td>\n      <td>1</td>\n      <td>0</td>\n      <td>5375</td>\n      <td>0</td>\n    </tr>\n  </tbody>\n</table>\n</div>",
      "text/plain": "    displayId      timestamp   pageId  widgetId  device  OS  browser  adId  \\\n0     4706262  1578429005696  3543873      6262       0   0        0     6   \n1     4706262  1578429005696  3543873      6262       0   0        0    15   \n2     4706262  1578429005696  3543873      6262       0   0        0  3610   \n3     4706267  1578429007726  6245475       607       1   3        0  5279   \n4     4706267  1578429007726  6245475       607       1   3        0  5271   \n5     4706267  1578429007726  6245475       607       1   3        0  5316   \n6     4706267  1578429007726  6245475       607       1   3        0   237   \n7     4706267  1578429007726  6245475       607       1   3        0  3475   \n8     4706260  1578429012060  4416499     11458       0   0        1  3634   \n9     4706260  1578429012060  4416499     11458       0   0        1    49   \n10    4706260  1578429012060  4416499     11458       0   0        1  5332   \n11    4706255  1578429017218  6246028      9358       0   0        0  3614   \n12    4706255  1578429017218  6246028      9358       0   0        0  3609   \n13    4706255  1578429017218  6246028      9358       0   0        0  5375   \n14    4706255  1578429017218  6246028      9358       0   0        0    49   \n15    4706256  1578429021388  5327047      9358       0   0        0  3614   \n16    4706256  1578429021388  5327047      9358       0   0        0  3609   \n17    4706256  1578429021388  5327047      9358       0   0        0    25   \n18    4706256  1578429021388  5327047      9358       0   0        0    49   \n19    4706235  1578429023501  6245689      9358       0   0        0    25   \n20    4706235  1578429023501  6245689      9358       0   0        0  3609   \n21    4706235  1578429023501  6245689      9358       0   0        0  3614   \n22    4706235  1578429023501  6245689      9358       0   0        0    49   \n23    4706181  1578429029640    83625      5802       0   0        5  5200   \n24    4706181  1578429029640    83625      5802       0   0        5  4611   \n25    4706181  1578429029640    83625      5802       0   0        5  4277   \n26    4706181  1578429029640    83625      5802       0   0        5  5375   \n27    4706228  1578429035793  4096624     11458       1   1        4  5423   \n28    4706228  1578429035793  4096624     11458       1   1        4  4209   \n29    4706228  1578429035793  4096624     11458       1   1        4    22   \n30    4706228  1578429035793  4096624     11458       1   1        4  5157   \n31    4706228  1578429035793  4096624     11458       1   1        4  5271   \n32    4706228  1578429035793  4096624     11458       1   1        4  3324   \n33    4706234  1578429036317  6244430      7691       0   0        0  4611   \n34    4706234  1578429036317  6244430      7691       0   0        0  5236   \n35    4706234  1578429036317  6244430      7691       0   0        0  4657   \n36    4706234  1578429036317  6244430      7691       0   0        0  4658   \n37    4706237  1578429039027  6246028      9358       1   1        0  5428   \n38    4706237  1578429039027  6246028      9358       1   1        0  3077   \n39    4706237  1578429039027  6246028      9358       1   1        0  5375   \n\n    clicked  \n0         1  \n1         0  \n2         0  \n3         0  \n4         0  \n5         0  \n6         0  \n7         1  \n8         0  \n9         1  \n10        0  \n11        1  \n12        0  \n13        0  \n14        0  \n15        0  \n16        0  \n17        1  \n18        0  \n19        1  \n20        0  \n21        0  \n22        0  \n23        0  \n24        1  \n25        0  \n26        0  \n27        0  \n28        1  \n29        0  \n30        0  \n31        0  \n32        0  \n33        0  \n34        0  \n35        1  \n36        0  \n37        1  \n38        0  \n39        0  "
     },
     "execution_count": 268,
     "metadata": {},
     "output_type": "execute_result"
    }
   ],
   "source": [
    "mindisplayId = event['displayId'].unique()[:10]\n",
    "optimizer_list = []\n",
    "i = 0\n",
    "for id_ in mindisplayId :\n",
    "    z = pd.merge(event[event['displayId']==id_],click_train[click_train['displayId']==id_])\n",
    "  \n",
    "    size = len(z)\n",
    "    for j in range(size):\n",
    "        optimizer_list.append(z.iloc[j].values)\n",
    "       \n",
    "new_df = pd.DataFrame(optimizer_list,columns=['displayId','timestamp','pageId','widgetId','device','OS','browser','adId','clicked',])\n",
    "new_df.head(50)\n"
   ]
  }
 ],
 "metadata": {
  "kernelspec": {
   "display_name": "Python 3",
   "language": "python",
   "name": "python3"
  },
  "language_info": {
   "codemirror_mode": {
    "name": "ipython",
    "version": 3
   },
   "file_extension": ".py",
   "mimetype": "text/x-python",
   "name": "python",
   "nbconvert_exporter": "python",
   "pygments_lexer": "ipython3",
   "version": "3.7.4-final"
  }
 },
 "nbformat": 4,
 "nbformat_minor": 2
}