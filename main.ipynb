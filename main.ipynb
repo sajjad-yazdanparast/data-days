{
 "cells": [
  {
   "cell_type": "code",
   "execution_count": 2,
   "metadata": {},
   "outputs": [],
   "source": [
    "import pandas as pd\n",
    "import numpy as np \n",
    "import matplotlib.pyplot as plt\n",
    "import seaborn as sns\n",
    "import copy\n",
    "# from sklearn.preprocessing import StandardScaler"
   ]
  },
  {
   "cell_type": "code",
   "execution_count": 3,
   "metadata": {},
   "outputs": [],
   "source": [
    "ad = pd.read_csv('//media//sajjad//New Volume//Dataset//datadays2020_contest_public_dataset//ad.csv')"
   ]
  },
  {
   "cell_type": "code",
   "execution_count": 4,
   "metadata": {},
   "outputs": [],
   "source": [
    "ad_image = pd.read_pickle('/media/sajjad/New Volume/Dataset/datadays2020_contest_public_dataset/ad_image2.pkl')"
   ]
  },
  {
   "cell_type": "code",
   "execution_count": 5,
   "metadata": {},
   "outputs": [],
   "source": [
    "ad_title = pd.read_csv('/media/sajjad/New Volume/Dataset/datadays2020_contest_public_dataset/ad_title.csv')"
   ]
  },
  {
   "cell_type": "code",
   "execution_count": 6,
   "metadata": {},
   "outputs": [],
   "source": [
    "click_test = pd.read_csv('/media/sajjad/New Volume/Dataset/datadays2020_contest_public_dataset/click_test.csv')"
   ]
  },
  {
   "cell_type": "code",
   "execution_count": 7,
   "metadata": {},
   "outputs": [],
   "source": [
    "click_train = pd.read_csv('/media/sajjad/New Volume/Dataset/datadays2020_contest_public_dataset/click_train.csv')"
   ]
  },
  {
   "cell_type": "code",
   "execution_count": 8,
   "metadata": {},
   "outputs": [],
   "source": [
    "event = pd.read_csv('/media/sajjad/New Volume/Dataset/datadays2020_contest_public_dataset/event.csv')\n",
    "event.drop('userId',axis=1,inplace=True)"
   ]
  },
  {
   "cell_type": "code",
   "execution_count": 9,
   "metadata": {},
   "outputs": [],
   "source": [
    "page = pd.read_csv('/media/sajjad/New Volume/Dataset/datadays2020_contest_public_dataset/page.csv')"
   ]
  },
  {
   "cell_type": "code",
   "execution_count": 10,
   "metadata": {},
   "outputs": [],
   "source": [
    "page_topic = pd.read_csv('/media/sajjad/New Volume/Dataset/datadays2020_contest_public_dataset/page_topic.csv')"
   ]
  },
  {
   "cell_type": "raw",
   "metadata": {},
   "source": [
    "MERGING EVENT AND CLICK_TRAIN ENTITIES"
   ]
  },
  {
   "cell_type": "code",
   "execution_count": 124,
   "metadata": {
    "scrolled": false
   },
   "outputs": [
    {
     "data": {
      "text/html": [
       "<div>\n",
       "<style scoped>\n",
       "    .dataframe tbody tr th:only-of-type {\n",
       "        vertical-align: middle;\n",
       "    }\n",
       "\n",
       "    .dataframe tbody tr th {\n",
       "        vertical-align: top;\n",
       "    }\n",
       "\n",
       "    .dataframe thead th {\n",
       "        text-align: right;\n",
       "    }\n",
       "</style>\n",
       "<table border=\"1\" class=\"dataframe\">\n",
       "  <thead>\n",
       "    <tr style=\"text-align: right;\">\n",
       "      <th></th>\n",
       "      <th>displayId</th>\n",
       "      <th>timestamp</th>\n",
       "      <th>pageId</th>\n",
       "      <th>widgetId</th>\n",
       "      <th>device</th>\n",
       "      <th>OS</th>\n",
       "      <th>browser</th>\n",
       "      <th>adId</th>\n",
       "      <th>clicked</th>\n",
       "    </tr>\n",
       "  </thead>\n",
       "  <tbody>\n",
       "    <tr>\n",
       "      <td>0</td>\n",
       "      <td>4706262</td>\n",
       "      <td>1578429005696</td>\n",
       "      <td>3543873</td>\n",
       "      <td>6262</td>\n",
       "      <td>0</td>\n",
       "      <td>0</td>\n",
       "      <td>0</td>\n",
       "      <td>6</td>\n",
       "      <td>1</td>\n",
       "    </tr>\n",
       "    <tr>\n",
       "      <td>1</td>\n",
       "      <td>4706262</td>\n",
       "      <td>1578429005696</td>\n",
       "      <td>3543873</td>\n",
       "      <td>6262</td>\n",
       "      <td>0</td>\n",
       "      <td>0</td>\n",
       "      <td>0</td>\n",
       "      <td>15</td>\n",
       "      <td>0</td>\n",
       "    </tr>\n",
       "    <tr>\n",
       "      <td>2</td>\n",
       "      <td>4706262</td>\n",
       "      <td>1578429005696</td>\n",
       "      <td>3543873</td>\n",
       "      <td>6262</td>\n",
       "      <td>0</td>\n",
       "      <td>0</td>\n",
       "      <td>0</td>\n",
       "      <td>3610</td>\n",
       "      <td>0</td>\n",
       "    </tr>\n",
       "    <tr>\n",
       "      <td>3</td>\n",
       "      <td>4706267</td>\n",
       "      <td>1578429007726</td>\n",
       "      <td>6245475</td>\n",
       "      <td>607</td>\n",
       "      <td>1</td>\n",
       "      <td>3</td>\n",
       "      <td>0</td>\n",
       "      <td>5279</td>\n",
       "      <td>0</td>\n",
       "    </tr>\n",
       "    <tr>\n",
       "      <td>4</td>\n",
       "      <td>4706267</td>\n",
       "      <td>1578429007726</td>\n",
       "      <td>6245475</td>\n",
       "      <td>607</td>\n",
       "      <td>1</td>\n",
       "      <td>3</td>\n",
       "      <td>0</td>\n",
       "      <td>5271</td>\n",
       "      <td>0</td>\n",
       "    </tr>\n",
       "  </tbody>\n",
       "</table>\n",
       "</div>"
      ],
      "text/plain": [
       "   displayId      timestamp   pageId  widgetId  device  OS  browser  adId  \\\n",
       "0    4706262  1578429005696  3543873      6262       0   0        0     6   \n",
       "1    4706262  1578429005696  3543873      6262       0   0        0    15   \n",
       "2    4706262  1578429005696  3543873      6262       0   0        0  3610   \n",
       "3    4706267  1578429007726  6245475       607       1   3        0  5279   \n",
       "4    4706267  1578429007726  6245475       607       1   3        0  5271   \n",
       "\n",
       "   clicked  \n",
       "0        1  \n",
       "1        0  \n",
       "2        0  \n",
       "3        0  \n",
       "4        0  "
      ]
     },
     "execution_count": 124,
     "metadata": {},
     "output_type": "execute_result"
    }
   ],
   "source": [
    "mindisplayId = event['displayId'].unique()[:5000]\n",
    "optimizer_list = []\n",
    "i = 0\n",
    "for id_ in mindisplayId :\n",
    "    z = pd.merge(event[event['displayId']==id_],click_train[(click_train['displayId']==id_)])\n",
    "  \n",
    "    size = len(z)\n",
    "    for j in range(size):\n",
    "        optimizer_list.append(z.iloc[j].values)\n",
    "       \n",
    "new_df = pd.DataFrame(optimizer_list,columns=['displayId','timestamp','pageId','widgetId','device','OS','browser','adId','clicked',])\n",
    "new_df.to_pickle('/media/sajjad/New Volume/Dataset/datadays2020_contest_public_dataset/new_df.pkl')\n",
    "\n",
    "\n",
    "\n",
    "# new_df = pd.read_pickle('/media/sajjad/New Volume/Dataset/datadays2020_contest_public_dataset/new_df.pkl')\n",
    "new_df.head()"
   ]
  },
  {
   "cell_type": "raw",
   "metadata": {},
   "source": [
    "MERGING AD, AD_TITLE AND AD_IMAGE ENTITIES"
   ]
  },
  {
   "cell_type": "code",
   "execution_count": 125,
   "metadata": {},
   "outputs": [],
   "source": [
    "# FIXING STRING IMAGES\n",
    "\n",
    "# imageFeatures = ad_image['imageFeatures']\n",
    "# i = 0 \n",
    "# new_column = []\n",
    "# for i in range(3256) :\n",
    "#     s = str(imageFeatures[i]).replace('[','')\n",
    "#     s = s.replace(']','')\n",
    "#     l = s.split(',')\n",
    "#     l = [np.float64(x) for x in l]\n",
    "#     new_column.append(l)\n",
    "# ad_image = pd.DataFrame.from_dict({'adId':ad_image['adId'],'imageFeatures':new_column})\n",
    "# ad_image.to_pickle('/media/sajjad/New Volume/Dataset/datadays2020_contest_public_dataset/ad_image2.pkl')\n",
    "\n",
    "\n",
    "\n",
    "\n",
    "ad_image = pd.read_pickle('/media/sajjad/New Volume/Dataset/datadays2020_contest_public_dataset/ad_image2.pkl')\n"
   ]
  },
  {
   "cell_type": "code",
   "execution_count": 159,
   "metadata": {
    "scrolled": true
   },
   "outputs": [
    {
     "data": {
      "text/html": [
       "<div>\n",
       "<style scoped>\n",
       "    .dataframe tbody tr th:only-of-type {\n",
       "        vertical-align: middle;\n",
       "    }\n",
       "\n",
       "    .dataframe tbody tr th {\n",
       "        vertical-align: top;\n",
       "    }\n",
       "\n",
       "    .dataframe thead th {\n",
       "        text-align: right;\n",
       "    }\n",
       "</style>\n",
       "<table border=\"1\" class=\"dataframe\">\n",
       "  <thead>\n",
       "    <tr style=\"text-align: right;\">\n",
       "      <th></th>\n",
       "      <th>displayId</th>\n",
       "    </tr>\n",
       "  </thead>\n",
       "  <tbody>\n",
       "    <tr>\n",
       "      <td>0</td>\n",
       "      <td>4706262</td>\n",
       "    </tr>\n",
       "    <tr>\n",
       "      <td>1</td>\n",
       "      <td>4706267</td>\n",
       "    </tr>\n",
       "    <tr>\n",
       "      <td>2</td>\n",
       "      <td>4706260</td>\n",
       "    </tr>\n",
       "    <tr>\n",
       "      <td>3</td>\n",
       "      <td>4706255</td>\n",
       "    </tr>\n",
       "    <tr>\n",
       "      <td>4</td>\n",
       "      <td>4706256</td>\n",
       "    </tr>\n",
       "    <tr>\n",
       "      <td>...</td>\n",
       "      <td>...</td>\n",
       "    </tr>\n",
       "    <tr>\n",
       "      <td>1083066</td>\n",
       "      <td>243935</td>\n",
       "    </tr>\n",
       "    <tr>\n",
       "      <td>1083067</td>\n",
       "      <td>243775</td>\n",
       "    </tr>\n",
       "    <tr>\n",
       "      <td>1083068</td>\n",
       "      <td>243745</td>\n",
       "    </tr>\n",
       "    <tr>\n",
       "      <td>1083069</td>\n",
       "      <td>243931</td>\n",
       "    </tr>\n",
       "    <tr>\n",
       "      <td>1083070</td>\n",
       "      <td>243751</td>\n",
       "    </tr>\n",
       "  </tbody>\n",
       "</table>\n",
       "<p>1083071 rows × 1 columns</p>\n",
       "</div>"
      ],
      "text/plain": [
       "         displayId\n",
       "0          4706262\n",
       "1          4706267\n",
       "2          4706260\n",
       "3          4706255\n",
       "4          4706256\n",
       "...            ...\n",
       "1083066     243935\n",
       "1083067     243775\n",
       "1083068     243745\n",
       "1083069     243931\n",
       "1083070     243751\n",
       "\n",
       "[1083071 rows x 1 columns]"
      ]
     },
     "execution_count": 159,
     "metadata": {},
     "output_type": "execute_result"
    }
   ],
   "source": [
    "# CREATING CTR_ID \n",
    "\n",
    "# thin_event = event[['displayId']]\n",
    "# ctr_id = thin_event.merge(click_train)\n",
    "# ids = ctr_id['adId'].unique()\n",
    "# ctrs = []\n",
    "# for id_ in ids :\n",
    "#     tmp = ctr_id[ctr_id['adId']==id_]\n",
    "#     all_accurance = len(tmp)\n",
    "#     clicked = len(tmp[tmp['clicked']==1])\n",
    "#     ctrs.append(clicked/all_accurance)\n",
    "\n",
    "# ctr_id = pd.DataFrame.from_dict({'adId':ids,'ctr':ctrs})\n",
    "# ctr_id.to_pickle('/media/sajjad/New Volume/Dataset/datadays2020_contest_public_dataset/ctr_id.pkl')\n",
    "\n",
    "ctr_id = pd.read_pickle('/media/sajjad/New Volume/Dataset/datadays2020_contest_public_dataset/ctr_id.pkl)\n",
    "ctr_id.head(30)\n",
    "                        "
   ]
  },
  {
   "cell_type": "code",
   "execution_count": 174,
   "metadata": {},
   "outputs": [
    {
     "data": {
      "text/html": [
       "<div>\n",
       "<style scoped>\n",
       "    .dataframe tbody tr th:only-of-type {\n",
       "        vertical-align: middle;\n",
       "    }\n",
       "\n",
       "    .dataframe tbody tr th {\n",
       "        vertical-align: top;\n",
       "    }\n",
       "\n",
       "    .dataframe thead th {\n",
       "        text-align: right;\n",
       "    }\n",
       "</style>\n",
       "<table border=\"1\" class=\"dataframe\">\n",
       "  <thead>\n",
       "    <tr style=\"text-align: right;\">\n",
       "      <th></th>\n",
       "      <th>adId</th>\n",
       "      <th>ctr</th>\n",
       "    </tr>\n",
       "  </thead>\n",
       "  <tbody>\n",
       "    <tr>\n",
       "      <td>count</td>\n",
       "      <td>2616.000000</td>\n",
       "      <td>2616.000000</td>\n",
       "    </tr>\n",
       "    <tr>\n",
       "      <td>mean</td>\n",
       "      <td>5167.836009</td>\n",
       "      <td>0.174829</td>\n",
       "    </tr>\n",
       "    <tr>\n",
       "      <td>std</td>\n",
       "      <td>1914.858044</td>\n",
       "      <td>0.110076</td>\n",
       "    </tr>\n",
       "    <tr>\n",
       "      <td>min</td>\n",
       "      <td>6.000000</td>\n",
       "      <td>0.000000</td>\n",
       "    </tr>\n",
       "    <tr>\n",
       "      <td>25%</td>\n",
       "      <td>4490.500000</td>\n",
       "      <td>0.107085</td>\n",
       "    </tr>\n",
       "    <tr>\n",
       "      <td>50%</td>\n",
       "      <td>5831.500000</td>\n",
       "      <td>0.157895</td>\n",
       "    </tr>\n",
       "    <tr>\n",
       "      <td>75%</td>\n",
       "      <td>6505.250000</td>\n",
       "      <td>0.224571</td>\n",
       "    </tr>\n",
       "    <tr>\n",
       "      <td>max</td>\n",
       "      <td>7182.000000</td>\n",
       "      <td>1.000000</td>\n",
       "    </tr>\n",
       "  </tbody>\n",
       "</table>\n",
       "</div>"
      ],
      "text/plain": [
       "              adId          ctr\n",
       "count  2616.000000  2616.000000\n",
       "mean   5167.836009     0.174829\n",
       "std    1914.858044     0.110076\n",
       "min       6.000000     0.000000\n",
       "25%    4490.500000     0.107085\n",
       "50%    5831.500000     0.157895\n",
       "75%    6505.250000     0.224571\n",
       "max    7182.000000     1.000000"
      ]
     },
     "execution_count": 174,
     "metadata": {},
     "output_type": "execute_result"
    }
   ],
   "source": [
    "ctr_id.describe()"
   ]
  },
  {
   "cell_type": "code",
   "execution_count": 17,
   "metadata": {},
   "outputs": [],
   "source": [
    "mindisplayId = ad['adId'].unique()\n",
    "optimizer_list = []\n",
    "i = 0\n",
    "for id_ in mindisplayId :\n",
    "    z = pd.merge(ad[ad['adId']==id_],ad_title[ad_title['adId']==id_])\n",
    "  \n",
    "    size = len(z)\n",
    "    for j in range(size):\n",
    "        optimizer_list.append(z.iloc[j].values)\n",
    "       \n",
    "ad_general = pd.DataFrame(optimizer_list,columns=['adId','campaignId','advertiserId','wordId'])\n",
    "ad_general.to_pickle('/media/sajjad/New Volume/Dataset/datadays2020_contest_public_dataset/ad_general.pkl')\n",
    "\n",
    "\n",
    "\n",
    "\n",
    "till this commit i merged new_df and ad_general to idk.csv. at next step i should use kernelPCA to minimize imageFeatues of each row and map then to 512 features. i should grab imageFeatures from ad_image then put them into ad_image then merge ad_image to ad and rebuild ad_general and at the end i should merge new constructed ad_general to new_df.Its better to think about ad_topic at this step but now i don't know what to do.after fixing images and topics i should give to a randomforest classifier and replace them with one column that. i means one column for images and one other column for topics.each column should cotain four values -2 to +2.\n",
    "\n",
    "\n",
    "\n",
    "\n",
    "# ad_general = pd.read_csv('/media/sajjad/New Volume/Dataset/datadays2020_contest_public_dataset/ad_general.csv')\n",
    "ad_general.head(50)\n",
    "del mindisplayId,optimizer_list,id_,z,size,j"
   ]
  },
  {
   "cell_type": "code",
   "execution_count": 18,
   "metadata": {},
   "outputs": [],
   "source": [
    "mindisplayId = ad['adId'].unique()\n",
    "optimizer_list = []\n",
    "i = 0\n",
    "for id_ in mindisplayId :\n",
    "    z = pd.merge(ad_general[ad_general['adId']==id_],ad_image[ad_image['adId']==id_])\n",
    "  \n",
    "    size = len(z)\n",
    "    for j in range(size):\n",
    "        optimizer_list.append(z.iloc[j].values)\n",
    "       \n",
    "ad_general = pd.DataFrame(optimizer_list,columns=['adId','campaignId','advertiserId','wordId','imageFeatures'])\n",
    "ad_general.to_csv('/media/sajjad/New Volume/Dataset/datadays2020_contest_public_dataset/ad_general.csv')\n",
    "\n",
    "# ad_general = pd.read_csv('/media/sajjad/New Volume/Dataset/datadays2020_contest_public_dataset/ad_general.csv')\n",
    "ad_general.head(50)\n",
    "del mindisplayId,optimizer_list,id_,z,size,j"
   ]
  },
  {
   "cell_type": "markdown",
   "metadata": {},
   "source": [
    "MERGING NEW_DF AND AD_GENERAL"
   ]
  },
  {
   "cell_type": "code",
   "execution_count": 153,
   "metadata": {},
   "outputs": [],
   "source": [
    "minadId = new_df['adId'].unique()\n",
    "optimizer_list = []\n",
    "for id_ in minadId :\n",
    "    z = pd.merge(new_df[new_df['adId']==id_] , ad_general[ad_general['adId']==id_])\n",
    "    size = len(z)\n",
    "    \n",
    "    for i in range(size) :\n",
    "        optimizer_list.append(z.iloc[i].values)\n",
    "idk = pd.DataFrame(optimizer_list,columns=['displayId', 'timestamp', 'pageId', 'widgetId', 'device', 'OS',\n",
    "       'browser', 'adId', 'clicked','campaignId', 'advertiserId', 'wordId', 'imageFeatures'])\n",
    "idk.to_csv('/media/sajjad/New Volume/Dataset/datadays2020_contest_public_dataset/ad_general.csv')\n",
    "\n",
    "\n",
    "# idk = pd.read_csv('/media/sajjad/New Volume/Dataset/datadays2020_contest_public_dataset/idk.csv')"
   ]
  },
  {
   "cell_type": "code",
   "execution_count": 167,
   "metadata": {},
   "outputs": [
    {
     "name": "stdout",
     "output_type": "stream",
     "text": [
      "<class 'pandas.core.frame.DataFrame'>\n",
      "RangeIndex: 111946 entries, 0 to 111945\n",
      "Data columns (total 13 columns):\n",
      "displayId        111946 non-null int64\n",
      "timestamp        111946 non-null int64\n",
      "pageId           111946 non-null int64\n",
      "widgetId         111946 non-null int64\n",
      "device           111946 non-null int64\n",
      "OS               111946 non-null int64\n",
      "browser          111946 non-null int64\n",
      "adId             111946 non-null int64\n",
      "clicked          111946 non-null int64\n",
      "campaignId       111946 non-null int64\n",
      "advertiserId     111946 non-null int64\n",
      "wordId           111946 non-null int64\n",
      "imageFeatures    111946 non-null object\n",
      "dtypes: int64(12), object(1)\n",
      "memory usage: 11.1+ MB\n"
     ]
    }
   ],
   "source": []
  },
  {
   "cell_type": "code",
   "execution_count": null,
   "metadata": {},
   "outputs": [],
   "source": [
    "from sklearn.model_selection import train_test_split\n",
    "from sklearn.ensemble import RandomForestClassifier"
   ]
  },
  {
   "cell_type": "code",
   "execution_count": 162,
   "metadata": {},
   "outputs": [],
   "source": [
    "x_train , x_test , y_train , y_test = train_test_split(idk['imageFeatures'],idk['clicked'],test_size=0.3, random_state = 101)"
   ]
  },
  {
   "cell_type": "code",
   "execution_count": 164,
   "metadata": {},
   "outputs": [],
   "source": [
    "model = RandomForestClassifier(n_estimators=70,n_jobs=2,verbose=3)"
   ]
  },
  {
   "cell_type": "code",
   "execution_count": 165,
   "metadata": {},
   "outputs": [
    {
     "ename": "ValueError",
     "evalue": "could not convert string to float: '[0.5180966258049011, 0.0, 0.0974043607711792, 0.0, 0.39861825108528137, 0.45344236493110657, 0.4143581688404083, 0.8559808135032654, 0.5064146518707275, 0.038153424859046936, 0.0052767968736588955, 0.21279069781303406, 0.00681168120354414, 0.019765423610806465, 0.09405244886875153, 0.10369634628295898, 0.0, 0.2247212827205658, 0.08206265419721603, 0.18827761709690094, 0.005097050219774246, 0.0, 0.06582766026258469, 0.2586286962032318, 0.0, 0.038786109536886215, 0.5674852132797241, 0.0, 0.5372514128684998, 1.0008103847503662, 0.0, 0.8063095808029175, 0.1000211238861084, 0.010683399625122547, 0.0461263470351696, 0.0, 0.001599978655576706, 0.018105849623680115, 0.038949646055698395, 0.0019862139597535133, 0.1701323240995407, 1.5943747758865356, 1.714460849761963, 2.2196905612945557, 1.6059435606002808, 0.11029370874166489, 0.155554860830307, 0.243074432015419, 0.3838268518447876, 0.0, 0.015512408688664436, 0.1123475432395935, 0.0, 0.13392311334609985, 0.8627898097038269, 0.743706226348877, 0.0, 0.0, 0.0, 0.31727445125579834, 0.1112203598022461, 0.0, 0.0, 0.0, 0.026773281395435333, 0.3335382044315338, 0.009162763133645058, 0.0, 0.0, 1.3171809911727905, 0.0011482542613521218, 0.27689212560653687, 0.08953747898340225, 0.014187115244567394, 0.22023464739322662, 0.05854053795337677, 0.13360677659511566, 0.01512223668396473, 0.2770589590072632, 0.3420541286468506, 0.944238007068634, 0.17377300560474396, 0.03385951370000839, 0.0, 0.0024769422598183155, 0.45961496233940125, 0.03338589891791344, 0.26359492540359497, 0.010947942733764648, 0.0, 0.9861981868743896, 0.0, 0.018994728103280067, 0.12781652808189392, 0.162319153547287, 0.0, 0.0, 0.9723755717277527, 0.0371055006980896, 0.24155834317207336, 0.5493254065513611, 0.02228330634534359, 0.29788514971733093, 0.6192152500152588, 0.0, 0.6793885231018066, 1.453635334968567, 1.3771110773086548, 0.5118381381034851, 0.29730314016342163, 0.3969261348247528, 0.0, 0.0, 0.0, 0.7929512858390808, 0.12563267350196838, 0.9242403507232666, 0.7898348569869995, 0.1419675499200821, 0.0, 0.25058260560035706, 0.0, 0.10517282783985138, 0.28358522057533264, 0.00022116424224805087, 0.008489721454679966, 0.18448202311992645, 0.4993380606174469, 0.052402280271053314, 0.0, 0.10978073626756668, 0.18735739588737488, 0.19712555408477783, 0.137292742729187, 0.8384523987770081, 0.17903728783130646, 0.48398974537849426, 0.0, 0.6719465851783752, 0.30107635259628296, 0.6238163709640503, 0.0, 0.026359179988503456, 0.0, 0.2194291353225708, 0.1097431480884552, 0.1418841928243637, 0.006919437553733587, 0.25132882595062256, 3.4650628566741943, 2.1904752254486084, 0.9301636219024658, 2.440887928009033, 0.0, 0.04634353145956993, 0.05042142793536186, 0.0, 0.24153514206409454, 0.1403900682926178, 0.27899718284606934, 1.2674667835235596, 0.0, 0.03620792180299759, 0.20085562765598297, 0.14387397468090057, 0.034336015582084656, 0.06683219969272614, 0.0441368967294693, 0.08002644777297974, 0.6603301763534546, 0.7423901557922363, 0.03818260878324509, 0.8591451644897461, 0.1098317876458168, 0.28060129284858704, 0.0, 0.0, 1.5259243249893188, 0.4908590018749237, 0.6166254878044128, 0.02181367203593254, 0.31823083758354187, 0.010708861984312534, 2.7366347312927246, 0.15042664110660553, 0.3505651354789734, 0.14162752032279968, 0.0, 0.010748809203505516, 0.22433388233184814, 0.05006858706474304, 1.0580848455429077, 0.2230503112077713, 0.272471159696579, 0.2486698180437088, 0.15421172976493835, 0.9184884428977966, 0.4756092131137848, 0.05794931948184967, 0.25296637415885925, 0.047546930611133575, 0.0, 0.21342861652374268, 0.3331468105316162, 0.1587962955236435, 0.0, 0.09358860552310944, 0.16462789475917816, 0.0032287403009831905, 0.4392916262149811, 2.99183988571167, 0.08949632942676544, 0.47632497549057007, 0.13672955334186554, 0.003996105864644051, 0.0, 0.0, 0.0, 0.08111266791820526, 0.0, 0.04284205660223961, 0.04521120339632034, 0.0, 0.013472010381519794, 0.27834221720695496, 1.8236284255981445, 0.846917986869812, 0.46239590644836426, 0.0, 0.028454022482037544, 0.1664966642856598, 0.390461802482605, 0.7827945351600647, 0.3971693813800812, 0.18524692952632904, 0.14416582882404327, 0.04429076239466667, 0.26344236731529236, 0.0, 0.8397928476333618, 0.22022013366222382, 0.0, 0.0, 0.08423073589801788, 0.08956925570964813, 0.06451471149921417, 0.0926181897521019, 0.1302507370710373, 0.6120527982711792, 0.8927813768386841, 0.012403028085827827, 0.10216440260410309, 0.549020528793335, 0.9113079309463501, 0.0257249902933836, 0.0, 0.9382982850074768, 0.0, 0.0, 0.0, 0.0, 0.0, 0.23626896739006042, 0.0, 0.014527162536978722, 0.008843786083161831, 0.5112544894218445, 0.43021509051322937, 0.0, 0.06740329414606094, 0.538979172706604, 1.2454123497009277, 0.10317883640527725, 0.017584174871444702, 0.3277320861816406, 0.0023326559457927942, 0.778267502784729, 0.0, 0.09439091384410858, 0.0, 0.7545698881149292, 0.0, 0.0, 0.09165987372398376, 0.11540769040584564, 0.37427282333374023, 1.41033136844635, 0.09395292401313782, 0.6427426338195801, 0.9120809435844421, 0.24026095867156982, 0.05088932067155838, 0.0, 0.8652318120002747, 0.0, 0.029243703931570053, 0.20949555933475494, 0.2122410088777542, 1.0246878862380981, 0.12962044775485992, 0.6854716539382935, 0.062333058565855026, 0.796084463596344, 1.316979169845581, 0.05150813236832619, 0.19796334207057953, 0.03826871141791344, 0.09221343696117401, 0.0, 0.3549746870994568, 0.0026850940193980932, 0.252926766872406, 0.4740039110183716, 0.20550388097763062, 0.7322118282318115, 0.6535729765892029, 0.10199087113142014, 0.20178741216659546, 0.0022827049251645803, 0.21890559792518616, 0.5250682234764099, 2.798706531524658, 1.1881399154663086, 0.19020138680934906, 0.03404514491558075, 0.16870565712451935, 0.0717030018568039, 0.37126243114471436, 0.05685471370816231, 0.0958438590168953, 0.0, 0.049378443509340286, 0.0029744571074843407, 0.1308167427778244, 0.7839678525924683, 0.516395628452301, 0.5398823618888855, 0.6086366772651672, 0.0005374052561819553, 0.419732928276062, 0.0, 0.7528741359710693, 0.0, 0.018050003796815872, 0.47016188502311707, 0.5564638376235962, 0.0, 0.0902024358510971, 0.06880154460668564, 0.4010375440120697, 0.05186000466346741, 0.0, 0.0, 0.09005984663963318, 0.7731883525848389, 0.375122606754303, 0.19812634587287903, 0.2971647083759308, 0.2133007049560547, 0.7376108765602112, 0.195261150598526, 0.16348324716091156, 0.1417761743068695, 1.3462578058242798, 0.0, 0.32943737506866455, 0.08031211048364639, 0.0, 0.0026882642414420843, 0.6419309973716736, 0.002694052644073963, 0.20995715260505676, 0.03823351487517357, 0.5551983714103699, 0.0019602905958890915, 0.21337680518627167, 0.018316786736249924, 0.02807675488293171, 0.1352497637271881, 0.807662844657898, 0.2964925467967987, 0.0035808079410344362, 0.0, 0.41727256774902344, 0.8018708229064941, 0.3855893611907959, 0.7562233805656433, 0.5003595352172852, 0.30417636036872864, 0.03232816606760025, 0.5056059956550598, 0.011334383860230446, 0.012384288012981415, 0.2928297817707062, 0.0, 0.03802564740180969, 1.0294448137283325, 0.014998177997767925, 0.6676614880561829, 0.8029599785804749, 0.16131985187530518, 0.0895400196313858, 0.08077726513147354, 0.18256361782550812, 0.06962043046951294, 0.03743128851056099, 0.030021782964468002, 0.4418545961380005, 0.5875715613365173, 0.0, 2.2330322265625, 0.25775808095932007, 0.0, 0.03844635933637619, 0.643951952457428, 0.15626829862594604, 0.0, 0.7595891952514648, 0.66712886095047, 0.0, 0.2970578372478485, 0.0, 0.7677679061889648, 0.03662409633398056, 0.27521055936813354, 0.0, 0.9490814208984375, 0.971508264541626, 0.9857769012451172, 0.34691059589385986, 0.005322939250618219, 0.25894030928611755, 0.01333925686776638, 0.040598850697278976, 0.1618604063987732, 0.03861217945814133, 0.7696407437324524, 0.5111542344093323, 0.44997042417526245, 0.31276169419288635, 0.22812055051326752, 0.19639036059379578, 1.0675554275512695, 0.0, 0.5976868867874146, 0.03132857382297516, 0.7972787022590637, 0.5334246158599854, 0.005999147891998291, 1.3015903234481812, 0.22282756865024567, 0.3669635057449341, 0.008552095852792263, 0.7078807950019836, 0.5285637974739075, 0.0, 0.023788293823599815, 0.1291700303554535, 1.676281213760376, 0.00950455293059349, 0.13050411641597748, 0.40622103214263916, 0.6229011416435242, 0.046361200511455536, 0.19792801141738892, 0.8151938319206238, 0.11948475241661072, 0.5910972356796265, 0.0545172244310379, 0.08281844854354858, 0.289998322725296, 0.781715989112854, 0.0, 0.0, 0.10121972113847733, 0.03416692093014717, 0.46853193640708923, 0.1422671526670456, 0.040976714342832565, 0.2943503260612488, 4.603487014770508, 0.041390981525182724, 0.10581802576780319, 0.0, 0.37123292684555054, 0.10051329433917999, 0.719227135181427, 0.0, 0.22986653447151184, 0.0, 0.4639042615890503, 0.2293941080570221, 0.10161428898572922, 0.10337097942829132, 0.16797927021980286, 0.14565329253673553, 0.5325958132743835, 0.27261725068092346, 0.3126446306705475, 0.06119595468044281, 0.0, 0.0, 0.2943357527256012, 0.13183540105819702, 0.06298714876174927, 1.0073208808898926, 2.302391529083252, 0.778148353099823, 0.6410564184188843, 0.0, 0.46225520968437195, 0.14422385394573212]'",
     "output_type": "error",
     "traceback": [
      "\u001b[0;31m---------------------------------------------------------------------------\u001b[0m",
      "\u001b[0;31mValueError\u001b[0m                                Traceback (most recent call last)",
      "\u001b[0;32m<ipython-input-165-4719cf73997a>\u001b[0m in \u001b[0;36m<module>\u001b[0;34m\u001b[0m\n\u001b[0;32m----> 1\u001b[0;31m \u001b[0mmodel\u001b[0m\u001b[0;34m.\u001b[0m\u001b[0mfit\u001b[0m\u001b[0;34m(\u001b[0m\u001b[0mx_train\u001b[0m\u001b[0;34m,\u001b[0m\u001b[0my_train\u001b[0m\u001b[0;34m)\u001b[0m\u001b[0;34m\u001b[0m\u001b[0;34m\u001b[0m\u001b[0m\n\u001b[0m",
      "\u001b[0;32m~/anaconda3/lib/python3.7/site-packages/sklearn/ensemble/forest.py\u001b[0m in \u001b[0;36mfit\u001b[0;34m(self, X, y, sample_weight)\u001b[0m\n\u001b[1;32m    247\u001b[0m \u001b[0;34m\u001b[0m\u001b[0m\n\u001b[1;32m    248\u001b[0m         \u001b[0;31m# Validate or convert input data\u001b[0m\u001b[0;34m\u001b[0m\u001b[0;34m\u001b[0m\u001b[0;34m\u001b[0m\u001b[0m\n\u001b[0;32m--> 249\u001b[0;31m         \u001b[0mX\u001b[0m \u001b[0;34m=\u001b[0m \u001b[0mcheck_array\u001b[0m\u001b[0;34m(\u001b[0m\u001b[0mX\u001b[0m\u001b[0;34m,\u001b[0m \u001b[0maccept_sparse\u001b[0m\u001b[0;34m=\u001b[0m\u001b[0;34m\"csc\"\u001b[0m\u001b[0;34m,\u001b[0m \u001b[0mdtype\u001b[0m\u001b[0;34m=\u001b[0m\u001b[0mDTYPE\u001b[0m\u001b[0;34m)\u001b[0m\u001b[0;34m\u001b[0m\u001b[0;34m\u001b[0m\u001b[0m\n\u001b[0m\u001b[1;32m    250\u001b[0m         \u001b[0my\u001b[0m \u001b[0;34m=\u001b[0m \u001b[0mcheck_array\u001b[0m\u001b[0;34m(\u001b[0m\u001b[0my\u001b[0m\u001b[0;34m,\u001b[0m \u001b[0maccept_sparse\u001b[0m\u001b[0;34m=\u001b[0m\u001b[0;34m'csc'\u001b[0m\u001b[0;34m,\u001b[0m \u001b[0mensure_2d\u001b[0m\u001b[0;34m=\u001b[0m\u001b[0;32mFalse\u001b[0m\u001b[0;34m,\u001b[0m \u001b[0mdtype\u001b[0m\u001b[0;34m=\u001b[0m\u001b[0;32mNone\u001b[0m\u001b[0;34m)\u001b[0m\u001b[0;34m\u001b[0m\u001b[0;34m\u001b[0m\u001b[0m\n\u001b[1;32m    251\u001b[0m         \u001b[0;32mif\u001b[0m \u001b[0msample_weight\u001b[0m \u001b[0;32mis\u001b[0m \u001b[0;32mnot\u001b[0m \u001b[0;32mNone\u001b[0m\u001b[0;34m:\u001b[0m\u001b[0;34m\u001b[0m\u001b[0;34m\u001b[0m\u001b[0m\n",
      "\u001b[0;32m~/anaconda3/lib/python3.7/site-packages/sklearn/utils/validation.py\u001b[0m in \u001b[0;36mcheck_array\u001b[0;34m(array, accept_sparse, accept_large_sparse, dtype, order, copy, force_all_finite, ensure_2d, allow_nd, ensure_min_samples, ensure_min_features, warn_on_dtype, estimator)\u001b[0m\n\u001b[1;32m    494\u001b[0m             \u001b[0;32mtry\u001b[0m\u001b[0;34m:\u001b[0m\u001b[0;34m\u001b[0m\u001b[0;34m\u001b[0m\u001b[0m\n\u001b[1;32m    495\u001b[0m                 \u001b[0mwarnings\u001b[0m\u001b[0;34m.\u001b[0m\u001b[0msimplefilter\u001b[0m\u001b[0;34m(\u001b[0m\u001b[0;34m'error'\u001b[0m\u001b[0;34m,\u001b[0m \u001b[0mComplexWarning\u001b[0m\u001b[0;34m)\u001b[0m\u001b[0;34m\u001b[0m\u001b[0;34m\u001b[0m\u001b[0m\n\u001b[0;32m--> 496\u001b[0;31m                 \u001b[0marray\u001b[0m \u001b[0;34m=\u001b[0m \u001b[0mnp\u001b[0m\u001b[0;34m.\u001b[0m\u001b[0masarray\u001b[0m\u001b[0;34m(\u001b[0m\u001b[0marray\u001b[0m\u001b[0;34m,\u001b[0m \u001b[0mdtype\u001b[0m\u001b[0;34m=\u001b[0m\u001b[0mdtype\u001b[0m\u001b[0;34m,\u001b[0m \u001b[0morder\u001b[0m\u001b[0;34m=\u001b[0m\u001b[0morder\u001b[0m\u001b[0;34m)\u001b[0m\u001b[0;34m\u001b[0m\u001b[0;34m\u001b[0m\u001b[0m\n\u001b[0m\u001b[1;32m    497\u001b[0m             \u001b[0;32mexcept\u001b[0m \u001b[0mComplexWarning\u001b[0m\u001b[0;34m:\u001b[0m\u001b[0;34m\u001b[0m\u001b[0;34m\u001b[0m\u001b[0m\n\u001b[1;32m    498\u001b[0m                 raise ValueError(\"Complex data not supported\\n\"\n",
      "\u001b[0;32m~/anaconda3/lib/python3.7/site-packages/numpy/core/_asarray.py\u001b[0m in \u001b[0;36masarray\u001b[0;34m(a, dtype, order)\u001b[0m\n\u001b[1;32m     83\u001b[0m \u001b[0;34m\u001b[0m\u001b[0m\n\u001b[1;32m     84\u001b[0m     \"\"\"\n\u001b[0;32m---> 85\u001b[0;31m     \u001b[0;32mreturn\u001b[0m \u001b[0marray\u001b[0m\u001b[0;34m(\u001b[0m\u001b[0ma\u001b[0m\u001b[0;34m,\u001b[0m \u001b[0mdtype\u001b[0m\u001b[0;34m,\u001b[0m \u001b[0mcopy\u001b[0m\u001b[0;34m=\u001b[0m\u001b[0;32mFalse\u001b[0m\u001b[0;34m,\u001b[0m \u001b[0morder\u001b[0m\u001b[0;34m=\u001b[0m\u001b[0morder\u001b[0m\u001b[0;34m)\u001b[0m\u001b[0;34m\u001b[0m\u001b[0;34m\u001b[0m\u001b[0m\n\u001b[0m\u001b[1;32m     86\u001b[0m \u001b[0;34m\u001b[0m\u001b[0m\n\u001b[1;32m     87\u001b[0m \u001b[0;34m\u001b[0m\u001b[0m\n",
      "\u001b[0;32m~/anaconda3/lib/python3.7/site-packages/pandas/core/series.py\u001b[0m in \u001b[0;36m__array__\u001b[0;34m(self, dtype)\u001b[0m\n\u001b[1;32m    946\u001b[0m             \u001b[0mwarnings\u001b[0m\u001b[0;34m.\u001b[0m\u001b[0mwarn\u001b[0m\u001b[0;34m(\u001b[0m\u001b[0mmsg\u001b[0m\u001b[0;34m,\u001b[0m \u001b[0mFutureWarning\u001b[0m\u001b[0;34m,\u001b[0m \u001b[0mstacklevel\u001b[0m\u001b[0;34m=\u001b[0m\u001b[0;36m3\u001b[0m\u001b[0;34m)\u001b[0m\u001b[0;34m\u001b[0m\u001b[0;34m\u001b[0m\u001b[0m\n\u001b[1;32m    947\u001b[0m             \u001b[0mdtype\u001b[0m \u001b[0;34m=\u001b[0m \u001b[0;34m\"M8[ns]\"\u001b[0m\u001b[0;34m\u001b[0m\u001b[0;34m\u001b[0m\u001b[0m\n\u001b[0;32m--> 948\u001b[0;31m         \u001b[0;32mreturn\u001b[0m \u001b[0mnp\u001b[0m\u001b[0;34m.\u001b[0m\u001b[0masarray\u001b[0m\u001b[0;34m(\u001b[0m\u001b[0mself\u001b[0m\u001b[0;34m.\u001b[0m\u001b[0marray\u001b[0m\u001b[0;34m,\u001b[0m \u001b[0mdtype\u001b[0m\u001b[0;34m)\u001b[0m\u001b[0;34m\u001b[0m\u001b[0;34m\u001b[0m\u001b[0m\n\u001b[0m\u001b[1;32m    949\u001b[0m \u001b[0;34m\u001b[0m\u001b[0m\n\u001b[1;32m    950\u001b[0m     \u001b[0;31m# ----------------------------------------------------------------------\u001b[0m\u001b[0;34m\u001b[0m\u001b[0;34m\u001b[0m\u001b[0;34m\u001b[0m\u001b[0m\n",
      "\u001b[0;32m~/anaconda3/lib/python3.7/site-packages/numpy/core/_asarray.py\u001b[0m in \u001b[0;36masarray\u001b[0;34m(a, dtype, order)\u001b[0m\n\u001b[1;32m     83\u001b[0m \u001b[0;34m\u001b[0m\u001b[0m\n\u001b[1;32m     84\u001b[0m     \"\"\"\n\u001b[0;32m---> 85\u001b[0;31m     \u001b[0;32mreturn\u001b[0m \u001b[0marray\u001b[0m\u001b[0;34m(\u001b[0m\u001b[0ma\u001b[0m\u001b[0;34m,\u001b[0m \u001b[0mdtype\u001b[0m\u001b[0;34m,\u001b[0m \u001b[0mcopy\u001b[0m\u001b[0;34m=\u001b[0m\u001b[0;32mFalse\u001b[0m\u001b[0;34m,\u001b[0m \u001b[0morder\u001b[0m\u001b[0;34m=\u001b[0m\u001b[0morder\u001b[0m\u001b[0;34m)\u001b[0m\u001b[0;34m\u001b[0m\u001b[0;34m\u001b[0m\u001b[0m\n\u001b[0m\u001b[1;32m     86\u001b[0m \u001b[0;34m\u001b[0m\u001b[0m\n\u001b[1;32m     87\u001b[0m \u001b[0;34m\u001b[0m\u001b[0m\n",
      "\u001b[0;32m~/anaconda3/lib/python3.7/site-packages/pandas/core/arrays/numpy_.py\u001b[0m in \u001b[0;36m__array__\u001b[0;34m(self, dtype)\u001b[0m\n\u001b[1;32m    164\u001b[0m \u001b[0;34m\u001b[0m\u001b[0m\n\u001b[1;32m    165\u001b[0m     \u001b[0;32mdef\u001b[0m \u001b[0m__array__\u001b[0m\u001b[0;34m(\u001b[0m\u001b[0mself\u001b[0m\u001b[0;34m,\u001b[0m \u001b[0mdtype\u001b[0m\u001b[0;34m=\u001b[0m\u001b[0;32mNone\u001b[0m\u001b[0;34m)\u001b[0m\u001b[0;34m:\u001b[0m\u001b[0;34m\u001b[0m\u001b[0;34m\u001b[0m\u001b[0m\n\u001b[0;32m--> 166\u001b[0;31m         \u001b[0;32mreturn\u001b[0m \u001b[0mnp\u001b[0m\u001b[0;34m.\u001b[0m\u001b[0masarray\u001b[0m\u001b[0;34m(\u001b[0m\u001b[0mself\u001b[0m\u001b[0;34m.\u001b[0m\u001b[0m_ndarray\u001b[0m\u001b[0;34m,\u001b[0m \u001b[0mdtype\u001b[0m\u001b[0;34m=\u001b[0m\u001b[0mdtype\u001b[0m\u001b[0;34m)\u001b[0m\u001b[0;34m\u001b[0m\u001b[0;34m\u001b[0m\u001b[0m\n\u001b[0m\u001b[1;32m    167\u001b[0m \u001b[0;34m\u001b[0m\u001b[0m\n\u001b[1;32m    168\u001b[0m     \u001b[0m_HANDLED_TYPES\u001b[0m \u001b[0;34m=\u001b[0m \u001b[0;34m(\u001b[0m\u001b[0mnp\u001b[0m\u001b[0;34m.\u001b[0m\u001b[0mndarray\u001b[0m\u001b[0;34m,\u001b[0m \u001b[0mnumbers\u001b[0m\u001b[0;34m.\u001b[0m\u001b[0mNumber\u001b[0m\u001b[0;34m)\u001b[0m\u001b[0;34m\u001b[0m\u001b[0;34m\u001b[0m\u001b[0m\n",
      "\u001b[0;32m~/anaconda3/lib/python3.7/site-packages/numpy/core/_asarray.py\u001b[0m in \u001b[0;36masarray\u001b[0;34m(a, dtype, order)\u001b[0m\n\u001b[1;32m     83\u001b[0m \u001b[0;34m\u001b[0m\u001b[0m\n\u001b[1;32m     84\u001b[0m     \"\"\"\n\u001b[0;32m---> 85\u001b[0;31m     \u001b[0;32mreturn\u001b[0m \u001b[0marray\u001b[0m\u001b[0;34m(\u001b[0m\u001b[0ma\u001b[0m\u001b[0;34m,\u001b[0m \u001b[0mdtype\u001b[0m\u001b[0;34m,\u001b[0m \u001b[0mcopy\u001b[0m\u001b[0;34m=\u001b[0m\u001b[0;32mFalse\u001b[0m\u001b[0;34m,\u001b[0m \u001b[0morder\u001b[0m\u001b[0;34m=\u001b[0m\u001b[0morder\u001b[0m\u001b[0;34m)\u001b[0m\u001b[0;34m\u001b[0m\u001b[0;34m\u001b[0m\u001b[0m\n\u001b[0m\u001b[1;32m     86\u001b[0m \u001b[0;34m\u001b[0m\u001b[0m\n\u001b[1;32m     87\u001b[0m \u001b[0;34m\u001b[0m\u001b[0m\n",
      "\u001b[0;31mValueError\u001b[0m: could not convert string to float: '[0.5180966258049011, 0.0, 0.0974043607711792, 0.0, 0.39861825108528137, 0.45344236493110657, 0.4143581688404083, 0.8559808135032654, 0.5064146518707275, 0.038153424859046936, 0.0052767968736588955, 0.21279069781303406, 0.00681168120354414, 0.019765423610806465, 0.09405244886875153, 0.10369634628295898, 0.0, 0.2247212827205658, 0.08206265419721603, 0.18827761709690094, 0.005097050219774246, 0.0, 0.06582766026258469, 0.2586286962032318, 0.0, 0.038786109536886215, 0.5674852132797241, 0.0, 0.5372514128684998, 1.0008103847503662, 0.0, 0.8063095808029175, 0.1000211238861084, 0.010683399625122547, 0.0461263470351696, 0.0, 0.001599978655576706, 0.018105849623680115, 0.038949646055698395, 0.0019862139597535133, 0.1701323240995407, 1.5943747758865356, 1.714460849761963, 2.2196905612945557, 1.6059435606002808, 0.11029370874166489, 0.155554860830307, 0.243074432015419, 0.3838268518447876, 0.0, 0.015512408688664436, 0.1123475432395935, 0.0, 0.13392311334609985, 0.8627898097038269, 0.743706226348877, 0.0, 0.0, 0.0, 0.31727445125579834, 0.1112203598022461, 0.0, 0.0, 0.0, 0.026773281395435333, 0.3335382044315338, 0.009162763133645058, 0.0, 0.0, 1.3171809911727905, 0.0011482542613521218, 0.27689212560653687, 0.08953747898340225, 0.014187115244567394, 0.22023464739322662, 0.05854053795337677, 0.13360677659511566, 0.01512223668396473, 0.2770589590072632, 0.3420541286468506, 0.944238007068634, 0.17377300560474396, 0.03385951370000839, 0.0, 0.0024769422598183155, 0.45961496233940125, 0.03338589891791344, 0.26359492540359497, 0.010947942733764648, 0.0, 0.9861981868743896, 0.0, 0.018994728103280067, 0.12781652808189392, 0.162319153547287, 0.0, 0.0, 0.9723755717277527, 0.0371055006980896, 0.24155834317207336, 0.5493254065513611, 0.02228330634534359, 0.29788514971733093, 0.6192152500152588, 0.0, 0.6793885231018066, 1.453635334968567, 1.3771110773086548, 0.5118381381034851, 0.29730314016342163, 0.3969261348247528, 0.0, 0.0, 0.0, 0.7929512858390808, 0.12563267350196838, 0.9242403507232666, 0.7898348569869995, 0.1419675499200821, 0.0, 0.25058260560035706, 0.0, 0.10517282783985138, 0.28358522057533264, 0.00022116424224805087, 0.008489721454679966, 0.18448202311992645, 0.4993380606174469, 0.052402280271053314, 0.0, 0.10978073626756668, 0.18735739588737488, 0.19712555408477783, 0.137292742729187, 0.8384523987770081, 0.17903728783130646, 0.48398974537849426, 0.0, 0.6719465851783752, 0.30107635259628296, 0.6238163709640503, 0.0, 0.026359179988503456, 0.0, 0.2194291353225708, 0.1097431480884552, 0.1418841928243637, 0.006919437553733587, 0.25132882595062256, 3.4650628566741943, 2.1904752254486084, 0.9301636219024658, 2.440887928009033, 0.0, 0.04634353145956993, 0.05042142793536186, 0.0, 0.24153514206409454, 0.1403900682926178, 0.27899718284606934, 1.2674667835235596, 0.0, 0.03620792180299759, 0.20085562765598297, 0.14387397468090057, 0.034336015582084656, 0.06683219969272614, 0.0441368967294693, 0.08002644777297974, 0.6603301763534546, 0.7423901557922363, 0.03818260878324509, 0.8591451644897461, 0.1098317876458168, 0.28060129284858704, 0.0, 0.0, 1.5259243249893188, 0.4908590018749237, 0.6166254878044128, 0.02181367203593254, 0.31823083758354187, 0.010708861984312534, 2.7366347312927246, 0.15042664110660553, 0.3505651354789734, 0.14162752032279968, 0.0, 0.010748809203505516, 0.22433388233184814, 0.05006858706474304, 1.0580848455429077, 0.2230503112077713, 0.272471159696579, 0.2486698180437088, 0.15421172976493835, 0.9184884428977966, 0.4756092131137848, 0.05794931948184967, 0.25296637415885925, 0.047546930611133575, 0.0, 0.21342861652374268, 0.3331468105316162, 0.1587962955236435, 0.0, 0.09358860552310944, 0.16462789475917816, 0.0032287403009831905, 0.4392916262149811, 2.99183988571167, 0.08949632942676544, 0.47632497549057007, 0.13672955334186554, 0.003996105864644051, 0.0, 0.0, 0.0, 0.08111266791820526, 0.0, 0.04284205660223961, 0.04521120339632034, 0.0, 0.013472010381519794, 0.27834221720695496, 1.8236284255981445, 0.846917986869812, 0.46239590644836426, 0.0, 0.028454022482037544, 0.1664966642856598, 0.390461802482605, 0.7827945351600647, 0.3971693813800812, 0.18524692952632904, 0.14416582882404327, 0.04429076239466667, 0.26344236731529236, 0.0, 0.8397928476333618, 0.22022013366222382, 0.0, 0.0, 0.08423073589801788, 0.08956925570964813, 0.06451471149921417, 0.0926181897521019, 0.1302507370710373, 0.6120527982711792, 0.8927813768386841, 0.012403028085827827, 0.10216440260410309, 0.549020528793335, 0.9113079309463501, 0.0257249902933836, 0.0, 0.9382982850074768, 0.0, 0.0, 0.0, 0.0, 0.0, 0.23626896739006042, 0.0, 0.014527162536978722, 0.008843786083161831, 0.5112544894218445, 0.43021509051322937, 0.0, 0.06740329414606094, 0.538979172706604, 1.2454123497009277, 0.10317883640527725, 0.017584174871444702, 0.3277320861816406, 0.0023326559457927942, 0.778267502784729, 0.0, 0.09439091384410858, 0.0, 0.7545698881149292, 0.0, 0.0, 0.09165987372398376, 0.11540769040584564, 0.37427282333374023, 1.41033136844635, 0.09395292401313782, 0.6427426338195801, 0.9120809435844421, 0.24026095867156982, 0.05088932067155838, 0.0, 0.8652318120002747, 0.0, 0.029243703931570053, 0.20949555933475494, 0.2122410088777542, 1.0246878862380981, 0.12962044775485992, 0.6854716539382935, 0.062333058565855026, 0.796084463596344, 1.316979169845581, 0.05150813236832619, 0.19796334207057953, 0.03826871141791344, 0.09221343696117401, 0.0, 0.3549746870994568, 0.0026850940193980932, 0.252926766872406, 0.4740039110183716, 0.20550388097763062, 0.7322118282318115, 0.6535729765892029, 0.10199087113142014, 0.20178741216659546, 0.0022827049251645803, 0.21890559792518616, 0.5250682234764099, 2.798706531524658, 1.1881399154663086, 0.19020138680934906, 0.03404514491558075, 0.16870565712451935, 0.0717030018568039, 0.37126243114471436, 0.05685471370816231, 0.0958438590168953, 0.0, 0.049378443509340286, 0.0029744571074843407, 0.1308167427778244, 0.7839678525924683, 0.516395628452301, 0.5398823618888855, 0.6086366772651672, 0.0005374052561819553, 0.419732928276062, 0.0, 0.7528741359710693, 0.0, 0.018050003796815872, 0.47016188502311707, 0.5564638376235962, 0.0, 0.0902024358510971, 0.06880154460668564, 0.4010375440120697, 0.05186000466346741, 0.0, 0.0, 0.09005984663963318, 0.7731883525848389, 0.375122606754303, 0.19812634587287903, 0.2971647083759308, 0.2133007049560547, 0.7376108765602112, 0.195261150598526, 0.16348324716091156, 0.1417761743068695, 1.3462578058242798, 0.0, 0.32943737506866455, 0.08031211048364639, 0.0, 0.0026882642414420843, 0.6419309973716736, 0.002694052644073963, 0.20995715260505676, 0.03823351487517357, 0.5551983714103699, 0.0019602905958890915, 0.21337680518627167, 0.018316786736249924, 0.02807675488293171, 0.1352497637271881, 0.807662844657898, 0.2964925467967987, 0.0035808079410344362, 0.0, 0.41727256774902344, 0.8018708229064941, 0.3855893611907959, 0.7562233805656433, 0.5003595352172852, 0.30417636036872864, 0.03232816606760025, 0.5056059956550598, 0.011334383860230446, 0.012384288012981415, 0.2928297817707062, 0.0, 0.03802564740180969, 1.0294448137283325, 0.014998177997767925, 0.6676614880561829, 0.8029599785804749, 0.16131985187530518, 0.0895400196313858, 0.08077726513147354, 0.18256361782550812, 0.06962043046951294, 0.03743128851056099, 0.030021782964468002, 0.4418545961380005, 0.5875715613365173, 0.0, 2.2330322265625, 0.25775808095932007, 0.0, 0.03844635933637619, 0.643951952457428, 0.15626829862594604, 0.0, 0.7595891952514648, 0.66712886095047, 0.0, 0.2970578372478485, 0.0, 0.7677679061889648, 0.03662409633398056, 0.27521055936813354, 0.0, 0.9490814208984375, 0.971508264541626, 0.9857769012451172, 0.34691059589385986, 0.005322939250618219, 0.25894030928611755, 0.01333925686776638, 0.040598850697278976, 0.1618604063987732, 0.03861217945814133, 0.7696407437324524, 0.5111542344093323, 0.44997042417526245, 0.31276169419288635, 0.22812055051326752, 0.19639036059379578, 1.0675554275512695, 0.0, 0.5976868867874146, 0.03132857382297516, 0.7972787022590637, 0.5334246158599854, 0.005999147891998291, 1.3015903234481812, 0.22282756865024567, 0.3669635057449341, 0.008552095852792263, 0.7078807950019836, 0.5285637974739075, 0.0, 0.023788293823599815, 0.1291700303554535, 1.676281213760376, 0.00950455293059349, 0.13050411641597748, 0.40622103214263916, 0.6229011416435242, 0.046361200511455536, 0.19792801141738892, 0.8151938319206238, 0.11948475241661072, 0.5910972356796265, 0.0545172244310379, 0.08281844854354858, 0.289998322725296, 0.781715989112854, 0.0, 0.0, 0.10121972113847733, 0.03416692093014717, 0.46853193640708923, 0.1422671526670456, 0.040976714342832565, 0.2943503260612488, 4.603487014770508, 0.041390981525182724, 0.10581802576780319, 0.0, 0.37123292684555054, 0.10051329433917999, 0.719227135181427, 0.0, 0.22986653447151184, 0.0, 0.4639042615890503, 0.2293941080570221, 0.10161428898572922, 0.10337097942829132, 0.16797927021980286, 0.14565329253673553, 0.5325958132743835, 0.27261725068092346, 0.3126446306705475, 0.06119595468044281, 0.0, 0.0, 0.2943357527256012, 0.13183540105819702, 0.06298714876174927, 1.0073208808898926, 2.302391529083252, 0.778148353099823, 0.6410564184188843, 0.0, 0.46225520968437195, 0.14422385394573212]'"
     ]
    }
   ],
   "source": [
    "model.fit(x_train,y_train)"
   ]
  },
  {
   "cell_type": "code",
   "execution_count": 157,
   "metadata": {},
   "outputs": [
    {
     "data": {
      "text/plain": [
       "Index(['adId', 'campaignId', 'advertiserId', 'wordId', 'imageFeatures'], dtype='object')"
      ]
     },
     "execution_count": 157,
     "metadata": {},
     "output_type": "execute_result"
    }
   ],
   "source": [
    "ad_general.columns"
   ]
  },
  {
   "cell_type": "code",
   "execution_count": 151,
   "metadata": {},
   "outputs": [
    {
     "data": {
      "text/plain": [
       "array(['adId', 'campaignId', 'advertiserId', 'wordId', 'imageFeatures'],\n",
       "      dtype=object)"
      ]
     },
     "execution_count": 151,
     "metadata": {},
     "output_type": "execute_result"
    }
   ],
   "source": [
    "ad_general.columns.values[:]"
   ]
  },
  {
   "cell_type": "markdown",
   "metadata": {},
   "source": [
    "MERGING PAGE ENTITIES "
   ]
  },
  {
   "cell_type": "code",
   "execution_count": 19,
   "metadata": {},
   "outputs": [],
   "source": [
    "mindisplayId = page['pageId'].unique()[:10]\n",
    "optimizer_list = []\n",
    "i = 0\n",
    "for id_ in mindisplayId :\n",
    "    z = pd.merge(page[page['pageId']==id_],page_topic[page_topic['pageId']==id_])\n",
    "  \n",
    "    size = len(z)\n",
    "    for j in range(size):\n",
    "        optimizer_list.append(z.iloc[j].values)\n",
    "       \n",
    "page_general = pd.DataFrame(optimizer_list,columns=['pageId','website','publisher','topicId','confidence'])\n",
    "# pd.merge(ad[ad['adId']==7867],ad_title[ad_title['adId']==7867])\n",
    "del mindisplayId,optimizer_list,id_,z,size,j"
   ]
  },
  {
   "cell_type": "code",
   "execution_count": 42,
   "metadata": {},
   "outputs": [
    {
     "name": "stdout",
     "output_type": "stream",
     "text": [
      "7025818\n",
      "10779259\n"
     ]
    }
   ],
   "source": [
    "# page_topic[page_topic['confidence']>0.85]\n",
    "print(len(page_topic['pageId'].unique()) )\n",
    "print(len(page['pageId'].unique()))"
   ]
  },
  {
   "cell_type": "code",
   "execution_count": 44,
   "metadata": {},
   "outputs": [
    {
     "name": "stdout",
     "output_type": "stream",
     "text": [
      "<class 'pandas.core.frame.DataFrame'>\n",
      "RangeIndex: 28118756 entries, 0 to 28118755\n",
      "Data columns (total 3 columns):\n",
      "pageId        int64\n",
      "topicId       int64\n",
      "confidence    float64\n",
      "dtypes: float64(1), int64(2)\n",
      "memory usage: 643.6 MB\n"
     ]
    }
   ],
   "source": [
    "page_topic.info()"
   ]
  },
  {
   "cell_type": "code",
   "execution_count": 45,
   "metadata": {},
   "outputs": [
    {
     "name": "stdout",
     "output_type": "stream",
     "text": [
      "<class 'pandas.core.frame.DataFrame'>\n",
      "RangeIndex: 10779259 entries, 0 to 10779258\n",
      "Data columns (total 3 columns):\n",
      "pageId       int64\n",
      "website      int64\n",
      "publisher    int64\n",
      "dtypes: int64(3)\n",
      "memory usage: 246.7 MB\n"
     ]
    }
   ],
   "source": [
    "page.info()"
   ]
  },
  {
   "cell_type": "code",
   "execution_count": 93,
   "metadata": {},
   "outputs": [
    {
     "data": {
      "text/html": [
       "<div>\n",
       "<style scoped>\n",
       "    .dataframe tbody tr th:only-of-type {\n",
       "        vertical-align: middle;\n",
       "    }\n",
       "\n",
       "    .dataframe tbody tr th {\n",
       "        vertical-align: top;\n",
       "    }\n",
       "\n",
       "    .dataframe thead th {\n",
       "        text-align: right;\n",
       "    }\n",
       "</style>\n",
       "<table border=\"1\" class=\"dataframe\">\n",
       "  <thead>\n",
       "    <tr style=\"text-align: right;\">\n",
       "      <th></th>\n",
       "      <th>pageId</th>\n",
       "      <th>confidence</th>\n",
       "    </tr>\n",
       "  </thead>\n",
       "  <tbody>\n",
       "    <tr>\n",
       "      <td>0</td>\n",
       "      <td>10743234</td>\n",
       "      <td>[0, 0, 0, 0, 0, 0, 0, 0.87764394, 0, 0, 0, 0, ...</td>\n",
       "    </tr>\n",
       "    <tr>\n",
       "      <td>1</td>\n",
       "      <td>10743233</td>\n",
       "      <td>[0, 0, 0, 0, 0, 0, 0, 0, 0, 0, 0, 0, 0, 0, 0, ...</td>\n",
       "    </tr>\n",
       "    <tr>\n",
       "      <td>2</td>\n",
       "      <td>10743227</td>\n",
       "      <td>[0, 0, 0, 0, 0, 0, 0, 0, 0, 0, 0, 0, 0, 0, 0, ...</td>\n",
       "    </tr>\n",
       "    <tr>\n",
       "      <td>3</td>\n",
       "      <td>10743219</td>\n",
       "      <td>[0, 0, 0, 0, 0, 0, 0, 0, 0, 0, 0, 0, 0, 0, 0, ...</td>\n",
       "    </tr>\n",
       "    <tr>\n",
       "      <td>4</td>\n",
       "      <td>10743206</td>\n",
       "      <td>[0, 0, 0, 0, 0, 0, 0, 0, 0, 0, 0, 0, 0, 0, 0, ...</td>\n",
       "    </tr>\n",
       "  </tbody>\n",
       "</table>\n",
       "</div>"
      ],
      "text/plain": [
       "     pageId                                         confidence\n",
       "0  10743234  [0, 0, 0, 0, 0, 0, 0, 0.87764394, 0, 0, 0, 0, ...\n",
       "1  10743233  [0, 0, 0, 0, 0, 0, 0, 0, 0, 0, 0, 0, 0, 0, 0, ...\n",
       "2  10743227  [0, 0, 0, 0, 0, 0, 0, 0, 0, 0, 0, 0, 0, 0, 0, ...\n",
       "3  10743219  [0, 0, 0, 0, 0, 0, 0, 0, 0, 0, 0, 0, 0, 0, 0, ...\n",
       "4  10743206  [0, 0, 0, 0, 0, 0, 0, 0, 0, 0, 0, 0, 0, 0, 0, ..."
      ]
     },
     "execution_count": 93,
     "metadata": {},
     "output_type": "execute_result"
    }
   ],
   "source": [
    "# plt.scatter(x='confidence',y='topicId',data=page_topic[page_topic['confidence']>0.7])\n",
    "# # sns.barplot()\n",
    "refrenced_df = page_topic[page_topic['confidence']>0.8]\n",
    "pageIds = refrenced_df['pageId'].unique()\n",
    "optimizer_list = {'pageId' : [] ,\n",
    "                  'confidence':[]}\n",
    "for id_ in pageIds :\n",
    "    grabed_df = refrenced_df[refrenced_df['pageId']==id_] \n",
    "    topics = grabed_df['topicId']\n",
    "    confidences = grabed_df['confidence']\n",
    "    l = [0*i for i in range(50)]\n",
    "    size = len(confidences)\n",
    "    for j in range(size) :\n",
    "        l[topics.values[j]] = confidences.values[j]\n",
    "    \n",
    "    optimizer_list['pageId'].append(id_)\n",
    "    optimizer_list['confidence'].append(l)\n",
    "\n",
    "\n",
    "new_page_topic = pd.DataFrame.from_dict(optimizer_list)\n",
    "new_page_topic.head()"
   ]
  },
  {
   "cell_type": "code",
   "execution_count": 97,
   "metadata": {},
   "outputs": [
    {
     "name": "stdout",
     "output_type": "stream",
     "text": [
      "<class 'pandas.core.frame.DataFrame'>\n",
      "RangeIndex: 1213123 entries, 0 to 1213122\n",
      "Data columns (total 2 columns):\n",
      "pageId        1213123 non-null int64\n",
      "confidence    1213123 non-null object\n",
      "dtypes: int64(1), object(1)\n",
      "memory usage: 18.5+ MB\n"
     ]
    }
   ],
   "source": [
    "new_page_topic.info()"
   ]
  },
  {
   "cell_type": "code",
   "execution_count": 15,
   "metadata": {},
   "outputs": [
    {
     "data": {
      "text/html": [
       "<div>\n",
       "<style scoped>\n",
       "    .dataframe tbody tr th:only-of-type {\n",
       "        vertical-align: middle;\n",
       "    }\n",
       "\n",
       "    .dataframe tbody tr th {\n",
       "        vertical-align: top;\n",
       "    }\n",
       "\n",
       "    .dataframe thead th {\n",
       "        text-align: right;\n",
       "    }\n",
       "</style>\n",
       "<table border=\"1\" class=\"dataframe\">\n",
       "  <thead>\n",
       "    <tr style=\"text-align: right;\">\n",
       "      <th></th>\n",
       "      <th>pageId</th>\n",
       "      <th>topicId</th>\n",
       "      <th>confidence</th>\n",
       "    </tr>\n",
       "  </thead>\n",
       "  <tbody>\n",
       "    <tr>\n",
       "      <td>46</td>\n",
       "      <td>10743234</td>\n",
       "      <td>7</td>\n",
       "      <td>0.877644</td>\n",
       "    </tr>\n",
       "    <tr>\n",
       "      <td>47</td>\n",
       "      <td>10743233</td>\n",
       "      <td>37</td>\n",
       "      <td>0.942834</td>\n",
       "    </tr>\n",
       "    <tr>\n",
       "      <td>65</td>\n",
       "      <td>10743227</td>\n",
       "      <td>37</td>\n",
       "      <td>0.863412</td>\n",
       "    </tr>\n",
       "    <tr>\n",
       "      <td>82</td>\n",
       "      <td>10743219</td>\n",
       "      <td>39</td>\n",
       "      <td>0.968905</td>\n",
       "    </tr>\n",
       "    <tr>\n",
       "      <td>112</td>\n",
       "      <td>10743206</td>\n",
       "      <td>35</td>\n",
       "      <td>0.845380</td>\n",
       "    </tr>\n",
       "    <tr>\n",
       "      <td>...</td>\n",
       "      <td>...</td>\n",
       "      <td>...</td>\n",
       "      <td>...</td>\n",
       "    </tr>\n",
       "    <tr>\n",
       "      <td>28118684</td>\n",
       "      <td>27</td>\n",
       "      <td>45</td>\n",
       "      <td>0.809087</td>\n",
       "    </tr>\n",
       "    <tr>\n",
       "      <td>28118700</td>\n",
       "      <td>23</td>\n",
       "      <td>8</td>\n",
       "      <td>0.882282</td>\n",
       "    </tr>\n",
       "    <tr>\n",
       "      <td>28118702</td>\n",
       "      <td>21</td>\n",
       "      <td>45</td>\n",
       "      <td>0.920379</td>\n",
       "    </tr>\n",
       "    <tr>\n",
       "      <td>28118729</td>\n",
       "      <td>14</td>\n",
       "      <td>40</td>\n",
       "      <td>0.844393</td>\n",
       "    </tr>\n",
       "    <tr>\n",
       "      <td>28118752</td>\n",
       "      <td>3</td>\n",
       "      <td>45</td>\n",
       "      <td>0.973528</td>\n",
       "    </tr>\n",
       "  </tbody>\n",
       "</table>\n",
       "<p>1213123 rows × 3 columns</p>\n",
       "</div>"
      ],
      "text/plain": [
       "            pageId  topicId  confidence\n",
       "46        10743234        7    0.877644\n",
       "47        10743233       37    0.942834\n",
       "65        10743227       37    0.863412\n",
       "82        10743219       39    0.968905\n",
       "112       10743206       35    0.845380\n",
       "...            ...      ...         ...\n",
       "28118684        27       45    0.809087\n",
       "28118700        23        8    0.882282\n",
       "28118702        21       45    0.920379\n",
       "28118729        14       40    0.844393\n",
       "28118752         3       45    0.973528\n",
       "\n",
       "[1213123 rows x 3 columns]"
      ]
     },
     "execution_count": 15,
     "metadata": {},
     "output_type": "execute_result"
    }
   ],
   "source": [
    " page_topic[page_topic['confidence']>0.8]"
   ]
  }
 ],
 "metadata": {
  "kernelspec": {
   "display_name": "Python 3",
   "language": "python",
   "name": "python3"
  },
  "language_info": {
   "codemirror_mode": {
    "name": "ipython",
    "version": 3
   },
   "file_extension": ".py",
   "mimetype": "text/x-python",
   "name": "python",
   "nbconvert_exporter": "python",
   "pygments_lexer": "ipython3",
   "version": "3.7.4"
  }
 },
 "nbformat": 4,
 "nbformat_minor": 2
}
