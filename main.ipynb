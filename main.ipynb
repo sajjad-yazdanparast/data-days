{
 "cells": [
  {
   "cell_type": "code",
   "execution_count": 1,
   "metadata": {},
   "outputs": [],
   "source": [
    "import pandas as pd\n",
    "import numpy as np \n",
    "from time import time\n",
    "# import matplotlib.pyplot as plt\n",
    "# import copy\n",
    "# from sklearn.preprocessing import StandardScaler"
   ]
  },
  {
   "cell_type": "code",
   "execution_count": null,
   "metadata": {},
   "outputs": [],
   "source": [
    "# ad = pd.read_csv('//media//sajjad//New Volume//Dataset//datadays2020_contest_public_dataset//ad.csv')"
   ]
  },
  {
   "cell_type": "code",
   "execution_count": 52,
   "metadata": {},
   "outputs": [],
   "source": [
    "raw_ad_image = pd.read_pickle('/media/sajjad/New Volume/Dataset/datadays2020_contest_public_dataset/raw_ad_image3.pkl')"
   ]
  },
  {
   "cell_type": "code",
   "execution_count": 12,
   "metadata": {},
   "outputs": [],
   "source": [
    "ad_title = pd.read_csv('/media/sajjad/New Volume/Dataset/datadays2020_contest_public_dataset/ad_title.csv')"
   ]
  },
  {
   "cell_type": "code",
   "execution_count": 13,
   "metadata": {},
   "outputs": [],
   "source": [
    "click_test = pd.read_csv('/media/sajjad/New Volume/Dataset/datadays2020_contest_public_dataset/click_test.csv')"
   ]
  },
  {
   "cell_type": "code",
   "execution_count": null,
   "metadata": {},
   "outputs": [],
   "source": [
    "# click_train = pd.read_csv('/media/sajjad/New Volume/Dataset/datadays2020_contest_public_dataset/click_train.csv')"
   ]
  },
  {
   "cell_type": "code",
   "execution_count": null,
   "metadata": {},
   "outputs": [],
   "source": [
    "# event = pd.read_csv('/media/sajjad/New Volume/Dataset/datadays2020_contest_public_dataset/event.csv')\n",
    "# event.drop('userId',axis=1,inplace=True)"
   ]
  },
  {
   "cell_type": "code",
   "execution_count": null,
   "metadata": {},
   "outputs": [],
   "source": [
    "# page = pd.read_csv('/media/sajjad/New Volume/Dataset/datadays2020_contest_public_dataset/page.csv')"
   ]
  },
  {
   "cell_type": "code",
   "execution_count": null,
   "metadata": {},
   "outputs": [],
   "source": [
    "# page_topic = pd.read_csv('/media/sajjad/New Volume/Dataset/datadays2020_contest_public_dataset/page_topic.csv')"
   ]
  },
  {
   "cell_type": "raw",
   "metadata": {},
   "source": [
    "MERGING EVENT AND CLICK_TRAIN ENTITIES"
   ]
  },
  {
   "cell_type": "code",
   "execution_count": null,
   "metadata": {
    "scrolled": false
   },
   "outputs": [],
   "source": [
    "# mindisplayId = event['displayId'].unique()[:5000]\n",
    "# optimizer_list = []\n",
    "# i = 0\n",
    "# for id_ in mindisplayId :\n",
    "#     z = pd.merge(event[event['displayId']==id_],click_train[(click_train['displayId']==id_)])\n",
    "  \n",
    "#     size = len(z)\n",
    "#     for j in range(size):\n",
    "#         optimizer_list.append(z.iloc[j].values)\n",
    "       \n",
    "# new_df = pd.DataFrame(optimizer_list,columns=['displayId','timestamp','pageId','widgetId','device','OS','browser','adId','clicked',])\n",
    "# new_df.to_pickle('/media/sajjad/New Volume/Dataset/datadays2020_contest_public_dataset/new_df.pkl')\n",
    "\n",
    "\n",
    "\n",
    "# new_df = pd.read_pickle('/media/sajjad/New Volume/Dataset/datadays2020_contest_public_dataset/new_df.pkl')\n",
    "# new_df.head()"
   ]
  },
  {
   "cell_type": "raw",
   "metadata": {},
   "source": [
    "MERGING AD, AD_TITLE AND AD_IMAGE ENTITIES"
   ]
  },
  {
   "cell_type": "code",
   "execution_count": null,
   "metadata": {},
   "outputs": [],
   "source": [
    "# FIXING STRING IMAGES\n",
    "\n",
    "# imageFeatures = ad_image['imageFeatures']\n",
    "# i = 0 \n",
    "# new_column = []\n",
    "# for i in range(3256) :\n",
    "#     s = str(imageFeatures[i]).replace('[','')\n",
    "#     s = s.replace(']','')\n",
    "#     l = s.split(',')\n",
    "#     l = [np.float64(x) for x in l]\n",
    "#     new_column.append(l)\n",
    "# ad_image = pd.DataFrame.from_dict({'adId':ad_image['adId'],'imageFeatures':new_column})\n",
    "# ad_image.to_pickle('/media/sajjad/New Volume/Dataset/datadays2020_contest_public_dataset/ad_image2.pkl')\n",
    "\n",
    "\n",
    "\n",
    "\n",
    "# ad_image = pd.read_pickle('/media/sajjad/New Volume/Dataset/datadays2020_contest_public_dataset/ad_image2.pkl')\n"
   ]
  },
  {
   "cell_type": "code",
   "execution_count": null,
   "metadata": {
    "scrolled": false
   },
   "outputs": [],
   "source": [
    "# # # CREATING CTR_AD ==> calcualte ctr for each train ad\n",
    "\n",
    "# thin_event = event[['displayId']]\n",
    "# ctr_ad = thin_event.merge(click_train)\n",
    "# ids = ctr_ad['adId'].unique()\n",
    "# ctrs = []\n",
    "# for id_ in ids :\n",
    "#     tmp = ctr_ad[ctr_ad['adId']==id_]\n",
    "#     all_accurance = len(tmp)\n",
    "#     clicked = len(tmp[tmp['clicked']==1])\n",
    "#     ctrs.append(clicked/all_accurance)\n",
    "# maped_value = []\n",
    "\n",
    "# for ctr in ctrs :\n",
    "#     if ctr < 0.107085 :\n",
    "#         maped_value.append(4) \n",
    "#     elif ctr < 0.157895 :\n",
    "#         maped_value.append(3)\n",
    "#     elif ctr < 0.224571 :\n",
    "#         maped_value.append(2)\n",
    "#     else :\n",
    "#         maped_value.append(1)\n",
    "\n",
    "# # ctr_ids = ctr_ad['adId'].unique()\n",
    "# all_ids = ad['adId'].unique()\n",
    "# subtracted_ids = [id_ for id_ in all_ids if id_ not in ids]\n",
    "# size = len(subtracted_ids)\n",
    "# ctrs = ctrs + [0.157895 for i in range(size)]\n",
    "# ctr_ad = pd.DataFrame.from_dict({'adId':list(ids)+list(subtracted_ids) ,\n",
    "#                                   'ctr' : ctrs ,\n",
    "#                                   'rank' : maped_value + [3 for i in range(size)]})\n",
    "\n",
    "# ctr_ad.to_pickle('/media/sajjad/New Volume/Dataset/datadays2020_contest_public_dataset/ctr_ad.pkl')\n",
    "\n",
    "# ctr_ad = pd.read_pickle('/media/sajjad/New Volume/Dataset/datadays2020_contest_public_dataset/ctr_ad.pkl')\n",
    "# ctr_ad\n",
    "                        "
   ]
  },
  {
   "cell_type": "code",
   "execution_count": null,
   "metadata": {},
   "outputs": [],
   "source": [
    "# display_ids = list(click_train['displayId']) + list(click_test['displayId'])\n",
    "# ad_ids = list(click_train['adId']) + list(click_test['adId'])\n",
    "# size = len(list(click_test['adId']))\n",
    "# clickeds = list(click_train['clicked']) + [None for i in range(size)]\n",
    "\n",
    "# kir = pd.DataFrame.from_dict({\n",
    "#     'displayId':display_ids ,\n",
    "#     'adId' : ad_ids ,\n",
    "#     'clicked' : clickeds\n",
    "# })\n",
    "# # kir.to_pickle('/media/sajjad/New Volume/Dataset/datadays2020_contest_public_dataset/new_df.pkl')"
   ]
  },
  {
   "cell_type": "code",
   "execution_count": null,
   "metadata": {},
   "outputs": [],
   "source": [
    "# MERGING TRAIN AND TEST \n",
    "# train_plus_test = pd.concat([click_train,click_test],ignore_index=True)\n",
    "# train_plus_test.to_pickle('/media/sajjad/New Volume/Dataset/datadays2020_contest_public_dataset/train_plus_test.pkl')\n",
    "\n",
    "\n",
    "# train_plus_test = pd.read_pickle('/media/sajjad/New Volume/Dataset/datadays2020_contest_public_dataset/train_plus_test.pkl')"
   ]
  },
  {
   "cell_type": "code",
   "execution_count": null,
   "metadata": {},
   "outputs": [],
   "source": [
    "# calculate all ads in a single display\n",
    "# even_merge_clicks = event[['displayId']].merge(train_plus_test)\n",
    "# even_merge_clicks.to_pickle('/media/sajjad/New Volume/Dataset/datadays2020_contest_public_dataset/event_merge_clicks.pkl')\n",
    "\n",
    "# even_merge_clicks = pd.read_pickle('/media/sajjad/New Volume/Dataset/datadays2020_contest_public_dataset/train_plus_test.pkl')"
   ]
  },
  {
   "cell_type": "code",
   "execution_count": null,
   "metadata": {
    "scrolled": false
   },
   "outputs": [],
   "source": [
    "# # calculating commen ids in train and test \n",
    "# test_ids = click_test['adId'].unique()\n",
    "# train_ids = click_train['adId'].unique()\n",
    "# commen = [x for x in test_ids if x in train_ids]\n",
    "# commen[1]"
   ]
  },
  {
   "cell_type": "code",
   "execution_count": null,
   "metadata": {},
   "outputs": [],
   "source": [
    "# # click_test\n",
    "# # start from here\n",
    "# display_ids = click_test['displayId'] \n",
    "# test_ad_ids = click_test['adId'] \n",
    "# size = len (test_ad_ids)\n",
    "# ctrs = [0.121164 for i in range(size)] \n",
    "# i = 0 \n",
    "# for id_ in test_ad_ids :\n",
    "#     if id_ in commen :\n",
    "#         ctrs[i] = ctr_ad[ctr_ad['adId']==id_].values[0][1]\n",
    "#     i+=1 \n",
    "\n",
    "    \n",
    "# sub_df = pd.DataFrame.from_dict({\n",
    "#     'displayId':display_ids ,\n",
    "#     'adId' : test_ad_ids ,\n",
    "#     'ctr' : ctrs\n",
    "# })\n",
    "# sub_df.to_pickle('/media/sajjad/New Volume/Dataset/datadays2020_contest_public_dataset/train_plus_test.pkl')\n",
    "\n",
    "# sub_df = pd.read_pickle('/media/sajjad/New Volume/Dataset/datadays2020_contest_public_dataset/train_plus_test.pkl')"
   ]
  },
  {
   "cell_type": "code",
   "execution_count": null,
   "metadata": {
    "scrolled": true
   },
   "outputs": [],
   "source": [
    "# sub_df"
   ]
  },
  {
   "cell_type": "code",
   "execution_count": null,
   "metadata": {},
   "outputs": [],
   "source": [
    "# # SORTING SUB_DF AND SAVE IT TO REAL_SUB_DF DATASET\n",
    "\n",
    "# import time \n",
    "# stime = time.time()\n",
    "# display_ids = sub_df['displayId'].unique()\n",
    "# sorted_rows = []\n",
    "# for id_ in display_ids :\n",
    "#     pp = sub_df[sub_df['displayId']==id_].sort_values(['ctr'],ascending=0).values\n",
    "#     for row in pp :\n",
    "#         sorted_rows.append(row)\n",
    "    \n",
    "\n",
    "# real_sub_df = pd.DataFrame(sorted_rows,columns=['displayId','adId','ctr'])\n",
    "# real_sub_df.displayId = real_sub_df.displayId.astype(np.int64)\n",
    "# real_sub_df.adId = real_sub_df.adId.astype(np.int64)\n",
    "# ftime = time.time()\n",
    "\n",
    "# print(ftime - stime)\n",
    "# real_sub_df\n"
   ]
  },
  {
   "cell_type": "code",
   "execution_count": null,
   "metadata": {},
   "outputs": [],
   "source": [
    "# display_ids = real_sub_df['displayId'].unique()\n",
    "# ranks = []\n",
    "\n",
    "# for id_ in display_ids:\n",
    "#     size = len(real_sub_df[real_sub_df['displayId']==id_])+1\n",
    "#     for j in range(1,size):\n",
    "#         ranks.append(j)\n",
    "        \n",
    "# real_sub_df['rank'] = ranks\n",
    "# real_sub_df.head(10)"
   ]
  },
  {
   "cell_type": "code",
   "execution_count": null,
   "metadata": {},
   "outputs": [],
   "source": [
    "# real_sub_df.drop('ctr',axis=1).to_csv('/media/sajjad/New Volume/Dataset/datadays2020_contest_public_dataset/real_sub_df.csv',header=None,index=False)"
   ]
  },
  {
   "cell_type": "code",
   "execution_count": null,
   "metadata": {},
   "outputs": [],
   "source": [
    "# ad_image"
   ]
  },
  {
   "cell_type": "code",
   "execution_count": null,
   "metadata": {},
   "outputs": [],
   "source": [
    "# stime = time()\n",
    "# ids = raw_ad_image.index\n",
    "# raw_ad_image['ctr'] = None\n",
    "# for id_ in ids :\n",
    "#     each_ad = train_plus_test[train_plus_test['adId']==id_]\n",
    "#     sum_ = np.sum(each_ad['clicked'])\n",
    "#     if sum_ != 0 :\n",
    "#         raw_ad_image.at[id_,'ctr'] = sum_ / (len(each_ad[each_ad['clicked']==1]) + len(each_ad[each_ad['clicked']==0]))\n",
    "    \n",
    "# ftime = time()\n",
    "# print(ftime-stime)\n",
    "\n",
    "# raw_ad_image.to_pickle('/media/sajjad/New Volume/Dataset/datadays2020_contest_public_dataset/raw_ad_image3')"
   ]
  },
  {
   "cell_type": "code",
   "execution_count": 42,
   "metadata": {},
   "outputs": [],
   "source": [
    "from sklearn.ensemble import RandomForestRegressor\n",
    "# from sklearn.linear_model import ElasticNet\n",
    "# from sklearn.linear_model import SGDRegressor\n",
    "# from sklearn.model_selection import train_test_split\n",
    "# from sklearn.neighbors import KNeighborsRegressor"
   ]
  },
  {
   "cell_type": "code",
   "execution_count": 54,
   "metadata": {},
   "outputs": [
    {
     "name": "stdout",
     "output_type": "stream",
     "text": [
      "5.443342387676239\n"
     ]
    }
   ],
   "source": [
    "stime = time()\n",
    "X_TRAIN = raw_ad_image.dropna().drop(['ctr'],axis=1)\n",
    "Y_TRAIN = raw_ad_image.dropna()['ctr']\n",
    "X_TEST = raw_ad_image[raw_ad_image['ctr'].isnull()].drop(['ctr'],axis=1)\n",
    "model_1 = RandomForestRegressor(n_estimators=150,random_state=101)\n",
    "model_1.fit(X_TRAIN,Y_TRAIN)\n",
    "ftime = time()\n",
    "print((ftime-stime)/60)"
   ]
  },
  {
   "cell_type": "code",
   "execution_count": 55,
   "metadata": {},
   "outputs": [],
   "source": [
    "Y1_PREDICTED = model_1.predict(X_TEST)\n",
    "# del model_1"
   ]
  },
  {
   "cell_type": "code",
   "execution_count": 56,
   "metadata": {},
   "outputs": [],
   "source": [
    "# assign predicted values to appropriate ad\n",
    "x_test_ids = X_TEST.index\n",
    "i = 0\n",
    "for x in x_test_ids :\n",
    "    raw_ad_image.at[x,'ctr']= Y1_PREDICTED[i]\n",
    "    i+=1\n",
    "raw_ad_image.to_pickle('/media/sajjad/New Volume/Dataset/datadays2020_contest_public_dataset/ad_image3.pkl')\n",
    "# del x,x_test_ids,X_TEST ,X_TRAIN,Y_TRAIN"
   ]
  },
  {
   "cell_type": "code",
   "execution_count": 57,
   "metadata": {
    "scrolled": false
   },
   "outputs": [
    {
     "name": "stdout",
     "output_type": "stream",
     "text": [
      "0.2007798751195272\n"
     ]
    }
   ],
   "source": [
    "# WORkING WITH TOPICS\n",
    "stime = time()\n",
    "new_ad_title = [[0 for i in range(2683)] for j in range(3256)]\n",
    "ids = raw_ad_image.index\n",
    "i = 0 \n",
    "for id_ in ids :\n",
    "    grabed = ad_title[ad_title['adId']==id_].values\n",
    "    for word in grabed :\n",
    "        new_ad_title[i][word[1]-1] += 1\n",
    "    i+=1\n",
    "ftime = time()\n",
    "print((ftime-stime)/60)\n",
    "# del i,id_,grabed,word,ids"
   ]
  },
  {
   "cell_type": "code",
   "execution_count": 58,
   "metadata": {},
   "outputs": [],
   "source": [
    "from sklearn.decomposition import KernelPCA\n",
    "from sklearn.preprocessing import StandardScaler"
   ]
  },
  {
   "cell_type": "code",
   "execution_count": 59,
   "metadata": {},
   "outputs": [
    {
     "name": "stdout",
     "output_type": "stream",
     "text": [
      "0.30106368064880373\n"
     ]
    }
   ],
   "source": [
    "stime = time()\n",
    "transformer = KernelPCA(n_components=40,kernel='rbf')\n",
    "new_array = transformer.fit_transform(new_ad_title)\n",
    "scaler = StandardScaler()\n",
    "new_array = scaler.fit_transform(new_array)\n",
    "ftime = time()\n",
    "print((ftime-stime)/60)\n",
    "# del transformer,scaler,new_ad_title"
   ]
  },
  {
   "cell_type": "code",
   "execution_count": 31,
   "metadata": {},
   "outputs": [],
   "source": [
    "# new_ad_title_df = pd.DataFrame(new_array,index=raw_ad_image.index)\n",
    "# del new_array"
   ]
  },
  {
   "cell_type": "code",
   "execution_count": 60,
   "metadata": {},
   "outputs": [],
   "source": [
    "new_ad_title_df['ctr'] = raw_ad_image['ctr']\n",
    "# del ad_image"
   ]
  },
  {
   "cell_type": "code",
   "execution_count": 61,
   "metadata": {},
   "outputs": [],
   "source": [
    "new_ad_title_df.to_pickle('/media/sajjad/New Volume/Dataset/datadays2020_contest_public_dataset/new_ad_title.pkl')"
   ]
  },
  {
   "cell_type": "code",
   "execution_count": 47,
   "metadata": {
    "scrolled": true
   },
   "outputs": [],
   "source": [
    "# del new_ad_title_df\n",
    "# new_ad_title_df = pd.read_pickle('/media/sajjad/New Volume/Dataset/datadays2020_contest_public_dataset/new_ad_title.pkl')"
   ]
  },
  {
   "cell_type": "code",
   "execution_count": null,
   "metadata": {},
   "outputs": [],
   "source": [
    "# from sklearn.metrics import mean_squared_error,max_error,mean_squared_error"
   ]
  },
  {
   "cell_type": "code",
   "execution_count": null,
   "metadata": {
    "scrolled": true
   },
   "outputs": [],
   "source": [
    "# new_ad_title_df['ctr']"
   ]
  },
  {
   "cell_type": "code",
   "execution_count": null,
   "metadata": {},
   "outputs": [],
   "source": [
    "# new_ad_title_df.loc[click_test['adId']]['ctr']"
   ]
  },
  {
   "cell_type": "code",
   "execution_count": null,
   "metadata": {},
   "outputs": [],
   "source": [
    "# new_ad_title_df"
   ]
  },
  {
   "cell_type": "code",
   "execution_count": 62,
   "metadata": {},
   "outputs": [],
   "source": [
    "from sklearn.metrics import mean_squared_error,max_error,r2_score\n",
    "from sklearn.neighbors import KNeighborsRegressor\n",
    "# from sklearn.svm import LinearSVR\n",
    "# from sklearn.model_selection import GridSearchCV\n",
    "# from sklearn.linear_model import Ridge"
   ]
  },
  {
   "cell_type": "code",
   "execution_count": null,
   "metadata": {},
   "outputs": [],
   "source": [
    "# print(len(X2_TEST))\n",
    "# print(len(Y2_TEST))"
   ]
  },
  {
   "cell_type": "code",
   "execution_count": 70,
   "metadata": {},
   "outputs": [],
   "source": [
    "from sklearn.linear_model import SGDRegressor\n",
    "from sklearn.ensemble import ExtraTreesRegressor"
   ]
  },
  {
   "cell_type": "code",
   "execution_count": null,
   "metadata": {},
   "outputs": [],
   "source": [
    "X2_TRAIN = new_ad_title_df.drop(['ctr'],axis=1)\n",
    "Y2_TRAIN = new_ad_title_df['ctr']\n",
    "X2_TEST = new_ad_title_df.loc[click_test['adId']].drop(['ctr'],axis=1)\n",
    "Y2_TEST = new_ad_title_df.loc[click_test['adId']]['ctr']\n"
   ]
  },
  {
   "cell_type": "code",
   "execution_count": 72,
   "metadata": {},
   "outputs": [],
   "source": [
    "X2_TRAIN.to_pickle('x2_train.pkl')\n",
    "X2_TEST.to_pickle('x2_test.pkl')\n",
    "Y2_TRAIN.to_pickle('y2_train.pkl')\n",
    "Y2_TEST.to_pickle('y2_test.pkl')"
   ]
  },
  {
   "cell_type": "code",
   "execution_count": 75,
   "metadata": {
    "scrolled": true
   },
   "outputs": [
    {
     "name": "stdout",
     "output_type": "stream",
     "text": [
      "time =  0.45172598759333293\n"
     ]
    }
   ],
   "source": [
    "stime = time()\n",
    "# model_2 = RandomForestRegressor(n_estimators=20,random_state=101)\n",
    "# model_2 = KNeighborsRegressor(n_neighbors=3)\n",
    "model_2 = ExtraTreesRegressor(n_estimators=50)\n",
    "# model_2 = ElasticNet(random_state=101)\n",
    "# param_grid = {\n",
    "#     'C' :[1,10,100,1000] ,\n",
    "#     'gamma' :[1,0.1,0.01,0.001] ,\n",
    "# }\n",
    "# model_2 = SVR(C=10,gamma=0.01)\n",
    "# model_2 = Ridge()\n",
    "# model_2 = SGDRegressor()\n",
    "model_2.fit(X2_TRAIN,Y2_TRAIN)\n",
    "Y2_PREDICTED = model_2.predict(X2_TEST)\n",
    "ftime = time()\n",
    "print('time = ',(ftime-stime)/60)"
   ]
  },
  {
   "cell_type": "code",
   "execution_count": 105,
   "metadata": {},
   "outputs": [],
   "source": [
    "pd.DataFrame(Y2_PREDICTED).to_pickle('y2_predicted.pkl')"
   ]
  },
  {
   "cell_type": "code",
   "execution_count": 76,
   "metadata": {
    "scrolled": true
   },
   "outputs": [
    {
     "name": "stdout",
     "output_type": "stream",
     "text": [
      "rmse  =  0.037495496754191976\n",
      "max error  =  0.4664944123342325\n",
      "r2 score  =  0.7316141346161086\n"
     ]
    }
   ],
   "source": [
    "print('rmse',' = ',np.math.sqrt(mean_squared_error(Y2_PREDICTED,Y2_TEST)))\n",
    "print('max error' ,' = ',max_error(Y2_PREDICTED,Y2_TEST))\n",
    "print('r2 score',' = ',r2_score(y_true=Y2_TEST,y_pred=Y2_PREDICTED))\n",
    "# print('model score = ',model_2.score(X2_TEST,Y2_TEST))"
   ]
  },
  {
   "cell_type": "code",
   "execution_count": 81,
   "metadata": {
    "scrolled": false
   },
   "outputs": [
    {
     "data": {
      "text/plain": [
       "[]"
      ]
     },
     "execution_count": 81,
     "metadata": {},
     "output_type": "execute_result"
    }
   ],
   "source": [
    "indexes = X2_TEST.index\n",
    "test_ids = click_test['adId']\n",
    "l = [x for x in test_ids if x not in indexes]\n",
    "l"
   ]
  },
  {
   "cell_type": "code",
   "execution_count": 83,
   "metadata": {
    "scrolled": true
   },
   "outputs": [
    {
     "data": {
      "text/html": [
       "<div>\n",
       "<style scoped>\n",
       "    .dataframe tbody tr th:only-of-type {\n",
       "        vertical-align: middle;\n",
       "    }\n",
       "\n",
       "    .dataframe tbody tr th {\n",
       "        vertical-align: top;\n",
       "    }\n",
       "\n",
       "    .dataframe thead th {\n",
       "        text-align: right;\n",
       "    }\n",
       "</style>\n",
       "<table border=\"1\" class=\"dataframe\">\n",
       "  <thead>\n",
       "    <tr style=\"text-align: right;\">\n",
       "      <th></th>\n",
       "      <th>displayId</th>\n",
       "      <th>adId</th>\n",
       "      <th>ctr</th>\n",
       "    </tr>\n",
       "  </thead>\n",
       "  <tbody>\n",
       "    <tr>\n",
       "      <td>0</td>\n",
       "      <td>151650</td>\n",
       "      <td>7585</td>\n",
       "      <td>0.220953</td>\n",
       "    </tr>\n",
       "    <tr>\n",
       "      <td>1</td>\n",
       "      <td>151650</td>\n",
       "      <td>6257</td>\n",
       "      <td>0.205686</td>\n",
       "    </tr>\n",
       "    <tr>\n",
       "      <td>2</td>\n",
       "      <td>151650</td>\n",
       "      <td>6690</td>\n",
       "      <td>0.380187</td>\n",
       "    </tr>\n",
       "    <tr>\n",
       "      <td>3</td>\n",
       "      <td>151938</td>\n",
       "      <td>7454</td>\n",
       "      <td>0.174462</td>\n",
       "    </tr>\n",
       "    <tr>\n",
       "      <td>4</td>\n",
       "      <td>151938</td>\n",
       "      <td>7370</td>\n",
       "      <td>0.156001</td>\n",
       "    </tr>\n",
       "    <tr>\n",
       "      <td>...</td>\n",
       "      <td>...</td>\n",
       "      <td>...</td>\n",
       "      <td>...</td>\n",
       "    </tr>\n",
       "    <tr>\n",
       "      <td>1199043</td>\n",
       "      <td>1328957</td>\n",
       "      <td>7039</td>\n",
       "      <td>0.204004</td>\n",
       "    </tr>\n",
       "    <tr>\n",
       "      <td>1199044</td>\n",
       "      <td>1328976</td>\n",
       "      <td>7167</td>\n",
       "      <td>0.149486</td>\n",
       "    </tr>\n",
       "    <tr>\n",
       "      <td>1199045</td>\n",
       "      <td>1328976</td>\n",
       "      <td>535</td>\n",
       "      <td>0.294924</td>\n",
       "    </tr>\n",
       "    <tr>\n",
       "      <td>1199046</td>\n",
       "      <td>1328976</td>\n",
       "      <td>7174</td>\n",
       "      <td>0.229359</td>\n",
       "    </tr>\n",
       "    <tr>\n",
       "      <td>1199047</td>\n",
       "      <td>1328976</td>\n",
       "      <td>7182</td>\n",
       "      <td>0.290931</td>\n",
       "    </tr>\n",
       "  </tbody>\n",
       "</table>\n",
       "<p>1199048 rows × 3 columns</p>\n",
       "</div>"
      ],
      "text/plain": [
       "         displayId  adId       ctr\n",
       "0           151650  7585  0.220953\n",
       "1           151650  6257  0.205686\n",
       "2           151650  6690  0.380187\n",
       "3           151938  7454  0.174462\n",
       "4           151938  7370  0.156001\n",
       "...            ...   ...       ...\n",
       "1199043    1328957  7039  0.204004\n",
       "1199044    1328976  7167  0.149486\n",
       "1199045    1328976   535  0.294924\n",
       "1199046    1328976  7174  0.229359\n",
       "1199047    1328976  7182  0.290931\n",
       "\n",
       "[1199048 rows x 3 columns]"
      ]
     },
     "execution_count": 83,
     "metadata": {},
     "output_type": "execute_result"
    }
   ],
   "source": [
    "click_test['ctr'] = Y2_PREDICTED\n",
    "click_test"
   ]
  },
  {
   "cell_type": "code",
   "execution_count": 124,
   "metadata": {
    "scrolled": true
   },
   "outputs": [
    {
     "name": "stdout",
     "output_type": "stream",
     "text": [
      "1614.7057483196259\n"
     ]
    },
    {
     "data": {
      "text/html": [
       "<div>\n",
       "<style scoped>\n",
       "    .dataframe tbody tr th:only-of-type {\n",
       "        vertical-align: middle;\n",
       "    }\n",
       "\n",
       "    .dataframe tbody tr th {\n",
       "        vertical-align: top;\n",
       "    }\n",
       "\n",
       "    .dataframe thead th {\n",
       "        text-align: right;\n",
       "    }\n",
       "</style>\n",
       "<table border=\"1\" class=\"dataframe\">\n",
       "  <thead>\n",
       "    <tr style=\"text-align: right;\">\n",
       "      <th></th>\n",
       "      <th>displayId</th>\n",
       "      <th>adId</th>\n",
       "      <th>ctr</th>\n",
       "    </tr>\n",
       "  </thead>\n",
       "  <tbody>\n",
       "    <tr>\n",
       "      <td>0</td>\n",
       "      <td>151650</td>\n",
       "      <td>6690</td>\n",
       "      <td>0.380187</td>\n",
       "    </tr>\n",
       "    <tr>\n",
       "      <td>1</td>\n",
       "      <td>151650</td>\n",
       "      <td>7585</td>\n",
       "      <td>0.220953</td>\n",
       "    </tr>\n",
       "    <tr>\n",
       "      <td>2</td>\n",
       "      <td>151650</td>\n",
       "      <td>6257</td>\n",
       "      <td>0.205686</td>\n",
       "    </tr>\n",
       "    <tr>\n",
       "      <td>3</td>\n",
       "      <td>151938</td>\n",
       "      <td>6690</td>\n",
       "      <td>0.380187</td>\n",
       "    </tr>\n",
       "    <tr>\n",
       "      <td>4</td>\n",
       "      <td>151938</td>\n",
       "      <td>7715</td>\n",
       "      <td>0.265803</td>\n",
       "    </tr>\n",
       "    <tr>\n",
       "      <td>...</td>\n",
       "      <td>...</td>\n",
       "      <td>...</td>\n",
       "      <td>...</td>\n",
       "    </tr>\n",
       "    <tr>\n",
       "      <td>1199043</td>\n",
       "      <td>1328957</td>\n",
       "      <td>7039</td>\n",
       "      <td>0.204004</td>\n",
       "    </tr>\n",
       "    <tr>\n",
       "      <td>1199044</td>\n",
       "      <td>1328976</td>\n",
       "      <td>535</td>\n",
       "      <td>0.294924</td>\n",
       "    </tr>\n",
       "    <tr>\n",
       "      <td>1199045</td>\n",
       "      <td>1328976</td>\n",
       "      <td>7182</td>\n",
       "      <td>0.290931</td>\n",
       "    </tr>\n",
       "    <tr>\n",
       "      <td>1199046</td>\n",
       "      <td>1328976</td>\n",
       "      <td>7174</td>\n",
       "      <td>0.229359</td>\n",
       "    </tr>\n",
       "    <tr>\n",
       "      <td>1199047</td>\n",
       "      <td>1328976</td>\n",
       "      <td>7167</td>\n",
       "      <td>0.149486</td>\n",
       "    </tr>\n",
       "  </tbody>\n",
       "</table>\n",
       "<p>1199048 rows × 3 columns</p>\n",
       "</div>"
      ],
      "text/plain": [
       "         displayId  adId       ctr\n",
       "0           151650  6690  0.380187\n",
       "1           151650  7585  0.220953\n",
       "2           151650  6257  0.205686\n",
       "3           151938  6690  0.380187\n",
       "4           151938  7715  0.265803\n",
       "...            ...   ...       ...\n",
       "1199043    1328957  7039  0.204004\n",
       "1199044    1328976   535  0.294924\n",
       "1199045    1328976  7182  0.290931\n",
       "1199046    1328976  7174  0.229359\n",
       "1199047    1328976  7167  0.149486\n",
       "\n",
       "[1199048 rows x 3 columns]"
      ]
     },
     "execution_count": 124,
     "metadata": {},
     "output_type": "execute_result"
    }
   ],
   "source": [
    "# SORTING click_test AND SAVE IT TO REAL_SUB_DF DATASET\n",
    "import time \n",
    "stime = time.time()\n",
    "display_ids = click_test['displayId'].unique()\n",
    "sorted_rows = []\n",
    "for id_ in display_ids :\n",
    "    pp = click_test[click_test['displayId']==id_].sort_values(['ctr'],ascending=0).values\n",
    "    for row in pp :\n",
    "        sorted_rows.append(row)\n",
    "    \n",
    "\n",
    "real_sub_df = pd.DataFrame(sorted_rows,columns=['displayId','adId','ctr'])\n",
    "real_sub_df.displayId = real_sub_df.displayId.astype(np.int64)\n",
    "real_sub_df.adId = real_sub_df.adId.astype(np.int64)\n",
    "ftime = time.time()\n",
    "\n",
    "print(ftime - stime)\n",
    "real_sub_df\n"
   ]
  },
  {
   "cell_type": "code",
   "execution_count": 126,
   "metadata": {
    "scrolled": false
   },
   "outputs": [
    {
     "data": {
      "text/html": [
       "<div>\n",
       "<style scoped>\n",
       "    .dataframe tbody tr th:only-of-type {\n",
       "        vertical-align: middle;\n",
       "    }\n",
       "\n",
       "    .dataframe tbody tr th {\n",
       "        vertical-align: top;\n",
       "    }\n",
       "\n",
       "    .dataframe thead th {\n",
       "        text-align: right;\n",
       "    }\n",
       "</style>\n",
       "<table border=\"1\" class=\"dataframe\">\n",
       "  <thead>\n",
       "    <tr style=\"text-align: right;\">\n",
       "      <th></th>\n",
       "      <th>displayId</th>\n",
       "      <th>adId</th>\n",
       "      <th>ctr</th>\n",
       "      <th>rank</th>\n",
       "    </tr>\n",
       "  </thead>\n",
       "  <tbody>\n",
       "    <tr>\n",
       "      <td>0</td>\n",
       "      <td>151650</td>\n",
       "      <td>6690</td>\n",
       "      <td>0.380187</td>\n",
       "      <td>1</td>\n",
       "    </tr>\n",
       "    <tr>\n",
       "      <td>1</td>\n",
       "      <td>151650</td>\n",
       "      <td>7585</td>\n",
       "      <td>0.220953</td>\n",
       "      <td>2</td>\n",
       "    </tr>\n",
       "    <tr>\n",
       "      <td>2</td>\n",
       "      <td>151650</td>\n",
       "      <td>6257</td>\n",
       "      <td>0.205686</td>\n",
       "      <td>3</td>\n",
       "    </tr>\n",
       "    <tr>\n",
       "      <td>3</td>\n",
       "      <td>151938</td>\n",
       "      <td>6690</td>\n",
       "      <td>0.380187</td>\n",
       "      <td>1</td>\n",
       "    </tr>\n",
       "    <tr>\n",
       "      <td>4</td>\n",
       "      <td>151938</td>\n",
       "      <td>7715</td>\n",
       "      <td>0.265803</td>\n",
       "      <td>2</td>\n",
       "    </tr>\n",
       "    <tr>\n",
       "      <td>...</td>\n",
       "      <td>...</td>\n",
       "      <td>...</td>\n",
       "      <td>...</td>\n",
       "      <td>...</td>\n",
       "    </tr>\n",
       "    <tr>\n",
       "      <td>1199043</td>\n",
       "      <td>1328957</td>\n",
       "      <td>7039</td>\n",
       "      <td>0.204004</td>\n",
       "      <td>2</td>\n",
       "    </tr>\n",
       "    <tr>\n",
       "      <td>1199044</td>\n",
       "      <td>1328976</td>\n",
       "      <td>535</td>\n",
       "      <td>0.294924</td>\n",
       "      <td>1</td>\n",
       "    </tr>\n",
       "    <tr>\n",
       "      <td>1199045</td>\n",
       "      <td>1328976</td>\n",
       "      <td>7182</td>\n",
       "      <td>0.290931</td>\n",
       "      <td>2</td>\n",
       "    </tr>\n",
       "    <tr>\n",
       "      <td>1199046</td>\n",
       "      <td>1328976</td>\n",
       "      <td>7174</td>\n",
       "      <td>0.229359</td>\n",
       "      <td>3</td>\n",
       "    </tr>\n",
       "    <tr>\n",
       "      <td>1199047</td>\n",
       "      <td>1328976</td>\n",
       "      <td>7167</td>\n",
       "      <td>0.149486</td>\n",
       "      <td>4</td>\n",
       "    </tr>\n",
       "  </tbody>\n",
       "</table>\n",
       "<p>1199048 rows × 4 columns</p>\n",
       "</div>"
      ],
      "text/plain": [
       "         displayId  adId       ctr  rank\n",
       "0           151650  6690  0.380187     1\n",
       "1           151650  7585  0.220953     2\n",
       "2           151650  6257  0.205686     3\n",
       "3           151938  6690  0.380187     1\n",
       "4           151938  7715  0.265803     2\n",
       "...            ...   ...       ...   ...\n",
       "1199043    1328957  7039  0.204004     2\n",
       "1199044    1328976   535  0.294924     1\n",
       "1199045    1328976  7182  0.290931     2\n",
       "1199046    1328976  7174  0.229359     3\n",
       "1199047    1328976  7167  0.149486     4\n",
       "\n",
       "[1199048 rows x 4 columns]"
      ]
     },
     "execution_count": 126,
     "metadata": {},
     "output_type": "execute_result"
    }
   ],
   "source": [
    "display_ids = real_sub_df['displayId'].unique()\n",
    "ranks = []\n",
    "\n",
    "for id_ in display_ids:\n",
    "    size = len(real_sub_df[real_sub_df['displayId']==id_])+1\n",
    "    for j in range(1,size):\n",
    "        ranks.append(j)\n",
    "        \n",
    "real_sub_df['rank'] = ranks\n",
    "real_sub_df"
   ]
  },
  {
   "cell_type": "code",
   "execution_count": 129,
   "metadata": {},
   "outputs": [
    {
     "data": {
      "text/plain": [
       "0          1\n",
       "1          2\n",
       "2          3\n",
       "3          1\n",
       "4          2\n",
       "          ..\n",
       "1199043    2\n",
       "1199044    1\n",
       "1199045    2\n",
       "1199046    3\n",
       "1199047    4\n",
       "Name: rank, Length: 1199048, dtype: int64"
      ]
     },
     "execution_count": 129,
     "metadata": {},
     "output_type": "execute_result"
    }
   ],
   "source": [
    "real_sub_df['rank']"
   ]
  },
  {
   "cell_type": "code",
   "execution_count": 131,
   "metadata": {},
   "outputs": [],
   "source": [
    "real_sub_df.drop('ctr',axis=1).to_csv('sub_df.csv',header=None,index=False)"
   ]
  },
  {
   "cell_type": "code",
   "execution_count": 132,
   "metadata": {},
   "outputs": [
    {
     "data": {
      "text/html": [
       "<div>\n",
       "<style scoped>\n",
       "    .dataframe tbody tr th:only-of-type {\n",
       "        vertical-align: middle;\n",
       "    }\n",
       "\n",
       "    .dataframe tbody tr th {\n",
       "        vertical-align: top;\n",
       "    }\n",
       "\n",
       "    .dataframe thead th {\n",
       "        text-align: right;\n",
       "    }\n",
       "</style>\n",
       "<table border=\"1\" class=\"dataframe\">\n",
       "  <thead>\n",
       "    <tr style=\"text-align: right;\">\n",
       "      <th></th>\n",
       "      <th>displayId</th>\n",
       "      <th>adId</th>\n",
       "      <th>ctr</th>\n",
       "    </tr>\n",
       "  </thead>\n",
       "  <tbody>\n",
       "    <tr>\n",
       "      <td>0</td>\n",
       "      <td>151650</td>\n",
       "      <td>7585</td>\n",
       "      <td>0.220953</td>\n",
       "    </tr>\n",
       "    <tr>\n",
       "      <td>1</td>\n",
       "      <td>151650</td>\n",
       "      <td>6257</td>\n",
       "      <td>0.205686</td>\n",
       "    </tr>\n",
       "    <tr>\n",
       "      <td>2</td>\n",
       "      <td>151650</td>\n",
       "      <td>6690</td>\n",
       "      <td>0.380187</td>\n",
       "    </tr>\n",
       "    <tr>\n",
       "      <td>3</td>\n",
       "      <td>151938</td>\n",
       "      <td>7454</td>\n",
       "      <td>0.174462</td>\n",
       "    </tr>\n",
       "    <tr>\n",
       "      <td>4</td>\n",
       "      <td>151938</td>\n",
       "      <td>7370</td>\n",
       "      <td>0.156001</td>\n",
       "    </tr>\n",
       "    <tr>\n",
       "      <td>...</td>\n",
       "      <td>...</td>\n",
       "      <td>...</td>\n",
       "      <td>...</td>\n",
       "    </tr>\n",
       "    <tr>\n",
       "      <td>1199043</td>\n",
       "      <td>1328957</td>\n",
       "      <td>7039</td>\n",
       "      <td>0.204004</td>\n",
       "    </tr>\n",
       "    <tr>\n",
       "      <td>1199044</td>\n",
       "      <td>1328976</td>\n",
       "      <td>7167</td>\n",
       "      <td>0.149486</td>\n",
       "    </tr>\n",
       "    <tr>\n",
       "      <td>1199045</td>\n",
       "      <td>1328976</td>\n",
       "      <td>535</td>\n",
       "      <td>0.294924</td>\n",
       "    </tr>\n",
       "    <tr>\n",
       "      <td>1199046</td>\n",
       "      <td>1328976</td>\n",
       "      <td>7174</td>\n",
       "      <td>0.229359</td>\n",
       "    </tr>\n",
       "    <tr>\n",
       "      <td>1199047</td>\n",
       "      <td>1328976</td>\n",
       "      <td>7182</td>\n",
       "      <td>0.290931</td>\n",
       "    </tr>\n",
       "  </tbody>\n",
       "</table>\n",
       "<p>1199048 rows × 3 columns</p>\n",
       "</div>"
      ],
      "text/plain": [
       "         displayId  adId       ctr\n",
       "0           151650  7585  0.220953\n",
       "1           151650  6257  0.205686\n",
       "2           151650  6690  0.380187\n",
       "3           151938  7454  0.174462\n",
       "4           151938  7370  0.156001\n",
       "...            ...   ...       ...\n",
       "1199043    1328957  7039  0.204004\n",
       "1199044    1328976  7167  0.149486\n",
       "1199045    1328976   535  0.294924\n",
       "1199046    1328976  7174  0.229359\n",
       "1199047    1328976  7182  0.290931\n",
       "\n",
       "[1199048 rows x 3 columns]"
      ]
     },
     "execution_count": 132,
     "metadata": {},
     "output_type": "execute_result"
    }
   ],
   "source": [
    "click_test"
   ]
  }
 ],
 "metadata": {
  "kernelspec": {
   "display_name": "Python 3",
   "language": "python",
   "name": "python3"
  },
  "language_info": {
   "codemirror_mode": {
    "name": "ipython",
    "version": 3
   },
   "file_extension": ".py",
   "mimetype": "text/x-python",
   "name": "python",
   "nbconvert_exporter": "python",
   "pygments_lexer": "ipython3",
   "version": "3.7.4"
  }
 },
 "nbformat": 4,
 "nbformat_minor": 2
}
