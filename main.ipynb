{
 "cells": [
  {
   "cell_type": "code",
   "execution_count": 1,
   "metadata": {},
   "outputs": [],
   "source": [
    "import pandas as pd\n",
    "import numpy as np \n",
    "import matplotlib.pyplot as plt"
   ]
  },
  {
   "cell_type": "code",
   "execution_count": 50,
   "metadata": {},
   "outputs": [],
   "source": [
    "from sklearn.preprocessing import StandardScaler"
   ]
  },
  {
   "cell_type": "code",
   "execution_count": 2,
   "metadata": {},
   "outputs": [],
   "source": [
    "ad = pd.read_csv('//media//sajjad//New Volume//Dataset//datadays2020_contest_public_dataset//ad.csv')"
   ]
  },
  {
   "cell_type": "code",
   "execution_count": 3,
   "metadata": {},
   "outputs": [],
   "source": [
    "ad_image = pd.read_csv('/media/sajjad/New Volume/Dataset/datadays2020_contest_public_dataset/ad_image.csv')"
   ]
  },
  {
   "cell_type": "code",
   "execution_count": 31,
   "metadata": {},
   "outputs": [],
   "source": [
    "ad_title = pd.read_csv('/media/sajjad/New Volume/Dataset/datadays2020_contest_public_dataset/ad_title.csv')"
   ]
  },
  {
   "cell_type": "code",
   "execution_count": 5,
   "metadata": {},
   "outputs": [],
   "source": [
    "click_test = pd.read_csv('/media/sajjad/New Volume/Dataset/datadays2020_contest_public_dataset/click_test.csv')"
   ]
  },
  {
   "cell_type": "code",
   "execution_count": 6,
   "metadata": {},
   "outputs": [],
   "source": [
    "click_train = pd.read_csv('/media/sajjad/New Volume/Dataset/datadays2020_contest_public_dataset/click_train.csv')"
   ]
  },
  {
   "cell_type": "code",
   "execution_count": 7,
   "metadata": {},
   "outputs": [],
   "source": [
    "event = pd.read_csv('/media/sajjad/New Volume/Dataset/datadays2020_contest_public_dataset/event.csv')"
   ]
  },
  {
   "cell_type": "code",
   "execution_count": 8,
   "metadata": {},
   "outputs": [],
   "source": [
    "page = pd.read_csv('/media/sajjad/New Volume/Dataset/datadays2020_contest_public_dataset/page.csv')"
   ]
  },
  {
   "cell_type": "code",
   "execution_count": 9,
   "metadata": {},
   "outputs": [],
   "source": [
    "page_topic = pd.read_csv('/media/sajjad/New Volume/Dataset/datadays2020_contest_public_dataset/page_topic.csv')"
   ]
  },
  {
   "cell_type": "code",
   "execution_count": 10,
   "metadata": {},
   "outputs": [],
   "source": [
    "# user_page_view = pd.read_csv('/media/sajjad/New Volume/Dataset/datadays2020_contest_public_dataset/user_page_view.csv')"
   ]
  },
  {
   "cell_type": "code",
   "execution_count": 11,
   "metadata": {
    "scrolled": true
   },
   "outputs": [
    {
     "name": "stdout",
     "output_type": "stream",
     "text": [
      "     pageId  topicId  confidence\n",
      "0  10743259       37    0.497099\n",
      "1  10743259       23    0.016994\n",
      "2  10743259       10    0.371499\n",
      "3  10743259        4    0.105349\n",
      "4  10743258       33    0.245752\n"
     ]
    }
   ],
   "source": [
    "print(page_topic.head())"
   ]
  },
  {
   "cell_type": "code",
   "execution_count": 12,
   "metadata": {},
   "outputs": [
    {
     "name": "stdout",
     "output_type": "stream",
     "text": [
      "   adId  campaignId  advertiserId\n",
      "0  7867        5918          8414\n",
      "1  7866        5918          8414\n",
      "2  7865        5918          8414\n",
      "3  7863        8343          8414\n",
      "4  7862        8343          8414\n"
     ]
    }
   ],
   "source": [
    "print(ad.head())"
   ]
  },
  {
   "cell_type": "code",
   "execution_count": 25,
   "metadata": {},
   "outputs": [
    {
     "name": "stdout",
     "output_type": "stream",
     "text": [
      "<class 'pandas.core.frame.DataFrame'>\n",
      "RangeIndex: 3256 entries, 0 to 3255\n",
      "Data columns (total 1 columns):\n",
      "imageFeatures    3256 non-null object\n",
      "dtypes: object(1)\n",
      "memory usage: 25.6+ KB\n",
      "None\n"
     ]
    }
   ],
   "source": [
    "# print(ad_image['imageFeatures'][0])\n",
    "print(ad_image[['imageFeatures']].info())"
   ]
  },
  {
   "cell_type": "code",
   "execution_count": 39,
   "metadata": {},
   "outputs": [
    {
     "name": "stdout",
     "output_type": "stream",
     "text": [
      "    adId  wordId\n",
      "4      6      28\n",
      "0      6      24\n",
      "7      6      31\n",
      "1      6      25\n",
      "2      6      26\n",
      "6      6      30\n",
      "5      6      29\n",
      "3      6      27\n",
      "8      7      32\n",
      "9      7      33\n",
      "11     7      35\n",
      "10     7      34\n",
      "17     8      39\n",
      "12     8       8\n",
      "18     8      40\n",
      "13     8      32\n",
      "14     8      36\n",
      "15     8      37\n",
      "16     8      38\n",
      "20    11      51\n",
      "25    11      56\n",
      "23    11      54\n",
      "24    11      55\n",
      "22    11      53\n",
      "21    11      52\n",
      "19    11      50\n",
      "33    13      68\n",
      "34    13      69\n",
      "30    13      65\n",
      "31    13      66\n",
      "32    13      67\n",
      "27    13      62\n",
      "26    13      61\n",
      "35    13      70\n",
      "29    13      64\n",
      "28    13      63\n",
      "43    14      72\n",
      "40    14      14\n",
      "42    14      71\n",
      "41    14      15\n",
      "38    14      12\n",
      "39    14      13\n",
      "37    14      11\n",
      "36    14       9\n",
      "47    15      76\n",
      "44    15      73\n",
      "49    15      78\n",
      "48    15      77\n",
      "45    15      74\n",
      "46    15      75\n",
      "3252\n"
     ]
    }
   ],
   "source": [
    "ad_title.sort_values(by='adId',inplace=True)\n",
    "print(ad_title.head(50))\n",
    "print(set(ad_title['adId'].unique()).__len__())"
   ]
  },
  {
   "cell_type": "code",
   "execution_count": 40,
   "metadata": {},
   "outputs": [
    {
     "name": "stdout",
     "output_type": "stream",
     "text": [
      "   displayId      timestamp   pageId  widgetId   userId  device  OS  browser\n",
      "0    4706262  1578429005696  3543873      6262  2688642       0   0        0\n",
      "1    4706267  1578429007726  6245475       607  2688641       1   3        0\n",
      "2    4706260  1578429012060  4416499     11458  2688638       0   0        1\n",
      "3    4706255  1578429017218  6246028      9358  1962852       0   0        0\n",
      "4    4706256  1578429021388  5327047      9358  2687719       0   0        0\n"
     ]
    }
   ],
   "source": [
    "print(event.head())"
   ]
  },
  {
   "cell_type": "code",
   "execution_count": 42,
   "metadata": {},
   "outputs": [
    {
     "name": "stdout",
     "output_type": "stream",
     "text": [
      "   displayId      timestamp   pageId  widgetId   userId  device  OS  browser\n",
      "0    4706262  1578429005696  3543873      6262  2688642       0   0        0\n"
     ]
    }
   ],
   "source": [
    "print(event[event['userId']==2688642])"
   ]
  },
  {
   "cell_type": "code",
   "execution_count": 52,
   "metadata": {},
   "outputs": [
    {
     "name": "stdout",
     "output_type": "stream",
     "text": [
      "844374\n",
      "1579187522652.9736\n",
      "458394459.45678204\n",
      "-1.6547254036894543\n",
      "[[-1.6547254 ]\n",
      " [-1.65472098]\n",
      " [-1.65471152]\n",
      " ...\n",
      " [ 1.73780909]\n",
      " [ 1.73785387]\n",
      " [ 1.73788828]]\n"
     ]
    }
   ],
   "source": [
    "print(event['userId'].unique().__len__())\n",
    "print(np.mean(event['timestamp']))\n",
    "print(np.std(event['timestamp']))\n",
    "print( (event['timestamp'][0]-np.mean(event['timestamp']) ) / np.std(event['timestamp']))\n",
    "scaler = StandardScaler()\n",
    "print(scaler.fit_transform(event[['timestamp']]))"
   ]
  },
  {
   "cell_type": "code",
   "execution_count": 53,
   "metadata": {},
   "outputs": [
    {
     "name": "stdout",
     "output_type": "stream",
     "text": [
      "             userId\n",
      "count  1.083071e+06\n",
      "mean   1.239831e+06\n",
      "std    7.914076e+05\n",
      "min    8.000000e+00\n",
      "25%    5.335820e+05\n",
      "50%    1.172044e+06\n",
      "75%    1.938347e+06\n",
      "max    2.688642e+06\n"
     ]
    }
   ],
   "source": [
    "print(event[['userId']].describe())"
   ]
  },
  {
   "cell_type": "code",
   "execution_count": 55,
   "metadata": {},
   "outputs": [
    {
     "name": "stdout",
     "output_type": "stream",
     "text": [
      "   displayId      timestamp   pageId  widgetId   userId  device  OS  browser\n",
      "0    4706262  1578429005696  3543873      6262  2688642       0   0        0\n"
     ]
    }
   ],
   "source": [
    "print(event[event['userId'] == 2688642])"
   ]
  },
  {
   "cell_type": "code",
   "execution_count": 56,
   "metadata": {},
   "outputs": [
    {
     "name": "stdout",
     "output_type": "stream",
     "text": [
      "<class 'pandas.core.frame.DataFrame'>\n",
      "RangeIndex: 1083071 entries, 0 to 1083070\n",
      "Data columns (total 8 columns):\n",
      "displayId    1083071 non-null int64\n",
      "timestamp    1083071 non-null int64\n",
      "pageId       1083071 non-null int64\n",
      "widgetId     1083071 non-null int64\n",
      "userId       1083071 non-null int64\n",
      "device       1083071 non-null int64\n",
      "OS           1083071 non-null int64\n",
      "browser      1083071 non-null int64\n",
      "dtypes: int64(8)\n",
      "memory usage: 66.1 MB\n",
      "None\n"
     ]
    }
   ],
   "source": [
    "print(event.info())"
   ]
  },
  {
   "cell_type": "code",
   "execution_count": 59,
   "metadata": {},
   "outputs": [
    {
     "name": "stdout",
     "output_type": "stream",
     "text": [
      "238697\n"
     ]
    }
   ],
   "source": [
    "print(event['userId'].__len__()-event['userId'].unique().__len__())"
   ]
  },
  {
   "cell_type": "code",
   "execution_count": 62,
   "metadata": {},
   "outputs": [
    {
     "name": "stdout",
     "output_type": "stream",
     "text": [
      "   displayId  adId  clicked\n",
      "0    1210227  7182        0\n",
      "1    1210227  7125        0\n",
      "2    1210227  7181        0\n",
      "3    1210227   535        0\n",
      "4    1210227  7174        1\n",
      "5    1214987  7125        0\n",
      "6    1214987  7092        1\n",
      "7    1214987  5652        0\n",
      "8    1248098  7182        0\n",
      "9    1248098    17        1\n"
     ]
    }
   ],
   "source": [
    "print(click_train.head(10))"
   ]
  }
 ],
 "metadata": {
  "kernelspec": {
   "display_name": "Python 3",
   "language": "python",
   "name": "python3"
  },
  "language_info": {
   "codemirror_mode": {
    "name": "ipython",
    "version": 3
   },
   "file_extension": ".py",
   "mimetype": "text/x-python",
   "name": "python",
   "nbconvert_exporter": "python",
   "pygments_lexer": "ipython3",
   "version": "3.7.4"
  }
 },
 "nbformat": 4,
 "nbformat_minor": 2
}
