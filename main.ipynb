{
 "cells": [
  {
   "cell_type": "code",
   "execution_count": 2,
   "metadata": {},
   "outputs": [],
   "source": [
    "import pandas as pd\n",
    "import numpy as np \n",
    "import matplotlib.pyplot as plt"
   ]
  },
  {
   "cell_type": "code",
   "execution_count": 50,
   "metadata": {},
   "outputs": [],
   "source": [
    "from sklearn.preprocessing import StandardScaler"
   ]
  },
  {
   "cell_type": "code",
   "execution_count": 3,
   "metadata": {},
   "outputs": [],
   "source": [
    "ad = pd.read_csv('//media//sajjad//New Volume//Dataset//datadays2020_contest_public_dataset//ad.csv')"
   ]
  },
  {
   "cell_type": "code",
   "execution_count": 4,
   "metadata": {},
   "outputs": [],
   "source": [
    "ad_image = pd.read_csv('/media/sajjad/New Volume/Dataset/datadays2020_contest_public_dataset/ad_image.csv')"
   ]
  },
  {
   "cell_type": "code",
   "execution_count": 5,
   "metadata": {},
   "outputs": [],
   "source": [
    "ad_title = pd.read_csv('/media/sajjad/New Volume/Dataset/datadays2020_contest_public_dataset/ad_title.csv')"
   ]
  },
  {
   "cell_type": "code",
   "execution_count": 6,
   "metadata": {},
   "outputs": [],
   "source": [
    "click_test = pd.read_csv('/media/sajjad/New Volume/Dataset/datadays2020_contest_public_dataset/click_test.csv')"
   ]
  },
  {
   "cell_type": "code",
   "execution_count": 7,
   "metadata": {},
   "outputs": [],
   "source": [
    "click_train = pd.read_csv('/media/sajjad/New Volume/Dataset/datadays2020_contest_public_dataset/click_train.csv')"
   ]
  },
  {
   "cell_type": "code",
   "execution_count": 8,
   "metadata": {},
   "outputs": [],
   "source": [
    "event = pd.read_csv('/media/sajjad/New Volume/Dataset/datadays2020_contest_public_dataset/event.csv')"
   ]
  },
  {
   "cell_type": "code",
   "execution_count": 9,
   "metadata": {},
   "outputs": [],
   "source": [
    "page = pd.read_csv('/media/sajjad/New Volume/Dataset/datadays2020_contest_public_dataset/page.csv')"
   ]
  },
  {
   "cell_type": "code",
   "execution_count": 10,
   "metadata": {},
   "outputs": [],
   "source": [
    "page_topic = pd.read_csv('/media/sajjad/New Volume/Dataset/datadays2020_contest_public_dataset/page_topic.csv')"
   ]
  },
  {
   "cell_type": "code",
   "execution_count": 10,
   "metadata": {},
   "outputs": [],
   "source": [
    "# user_page_view = pd.read_csv('/media/sajjad/New Volume/Dataset/datadays2020_contest_public_dataset/user_page_view.csv')"
   ]
  },
  {
   "cell_type": "code",
   "execution_count": 11,
   "metadata": {
    "scrolled": true
   },
   "outputs": [
    {
     "name": "stdout",
     "output_type": "stream",
     "text": [
      "     pageId  topicId  confidence\n",
      "0  10743259       37    0.497099\n",
      "1  10743259       23    0.016994\n",
      "2  10743259       10    0.371499\n",
      "3  10743259        4    0.105349\n",
      "4  10743258       33    0.245752\n"
     ]
    }
   ],
   "source": [
    "print(page_topic.head())"
   ]
  },
  {
   "cell_type": "code",
   "execution_count": 12,
   "metadata": {},
   "outputs": [
    {
     "name": "stdout",
     "output_type": "stream",
     "text": [
      "   adId  campaignId  advertiserId\n",
      "0  7867        5918          8414\n",
      "1  7866        5918          8414\n",
      "2  7865        5918          8414\n",
      "3  7863        8343          8414\n",
      "4  7862        8343          8414\n"
     ]
    }
   ],
   "source": [
    "print(ad.head())"
   ]
  },
  {
   "cell_type": "code",
   "execution_count": 25,
   "metadata": {},
   "outputs": [
    {
     "name": "stdout",
     "output_type": "stream",
     "text": [
      "<class 'pandas.core.frame.DataFrame'>\n",
      "RangeIndex: 3256 entries, 0 to 3255\n",
      "Data columns (total 1 columns):\n",
      "imageFeatures    3256 non-null object\n",
      "dtypes: object(1)\n",
      "memory usage: 25.6+ KB\n",
      "None\n"
     ]
    }
   ],
   "source": [
    "# print(ad_image['imageFeatures'][0])\n",
    "print(ad_image[['imageFeatures']].info())"
   ]
  },
  {
   "cell_type": "code",
   "execution_count": 39,
   "metadata": {},
   "outputs": [
    {
     "name": "stdout",
     "output_type": "stream",
     "text": [
      "    adId  wordId\n",
      "4      6      28\n",
      "0      6      24\n",
      "7      6      31\n",
      "1      6      25\n",
      "2      6      26\n",
      "6      6      30\n",
      "5      6      29\n",
      "3      6      27\n",
      "8      7      32\n",
      "9      7      33\n",
      "11     7      35\n",
      "10     7      34\n",
      "17     8      39\n",
      "12     8       8\n",
      "18     8      40\n",
      "13     8      32\n",
      "14     8      36\n",
      "15     8      37\n",
      "16     8      38\n",
      "20    11      51\n",
      "25    11      56\n",
      "23    11      54\n",
      "24    11      55\n",
      "22    11      53\n",
      "21    11      52\n",
      "19    11      50\n",
      "33    13      68\n",
      "34    13      69\n",
      "30    13      65\n",
      "31    13      66\n",
      "32    13      67\n",
      "27    13      62\n",
      "26    13      61\n",
      "35    13      70\n",
      "29    13      64\n",
      "28    13      63\n",
      "43    14      72\n",
      "40    14      14\n",
      "42    14      71\n",
      "41    14      15\n",
      "38    14      12\n",
      "39    14      13\n",
      "37    14      11\n",
      "36    14       9\n",
      "47    15      76\n",
      "44    15      73\n",
      "49    15      78\n",
      "48    15      77\n",
      "45    15      74\n",
      "46    15      75\n",
      "3252\n"
     ]
    }
   ],
   "source": [
    "ad_title.sort_values(by='adId',inplace=True)\n",
    "print(ad_title.head(50))\n",
    "print(set(ad_title['adId'].unique()).__len__())"
   ]
  },
  {
   "cell_type": "code",
   "execution_count": 40,
   "metadata": {},
   "outputs": [
    {
     "name": "stdout",
     "output_type": "stream",
     "text": [
      "   displayId      timestamp   pageId  widgetId   userId  device  OS  browser\n",
      "0    4706262  1578429005696  3543873      6262  2688642       0   0        0\n",
      "1    4706267  1578429007726  6245475       607  2688641       1   3        0\n",
      "2    4706260  1578429012060  4416499     11458  2688638       0   0        1\n",
      "3    4706255  1578429017218  6246028      9358  1962852       0   0        0\n",
      "4    4706256  1578429021388  5327047      9358  2687719       0   0        0\n"
     ]
    }
   ],
   "source": [
    "print(event.head())"
   ]
  },
  {
   "cell_type": "code",
   "execution_count": 42,
   "metadata": {},
   "outputs": [
    {
     "name": "stdout",
     "output_type": "stream",
     "text": [
      "   displayId      timestamp   pageId  widgetId   userId  device  OS  browser\n",
      "0    4706262  1578429005696  3543873      6262  2688642       0   0        0\n"
     ]
    }
   ],
   "source": [
    "print(event[event['userId']==2688642])"
   ]
  },
  {
   "cell_type": "code",
   "execution_count": 52,
   "metadata": {},
   "outputs": [
    {
     "name": "stdout",
     "output_type": "stream",
     "text": [
      "844374\n",
      "1579187522652.9736\n",
      "458394459.45678204\n",
      "-1.6547254036894543\n",
      "[[-1.6547254 ]\n",
      " [-1.65472098]\n",
      " [-1.65471152]\n",
      " ...\n",
      " [ 1.73780909]\n",
      " [ 1.73785387]\n",
      " [ 1.73788828]]\n"
     ]
    }
   ],
   "source": [
    "print(event['userId'].unique().__len__())\n",
    "print(np.mean(event['timestamp']))\n",
    "print(np.std(event['timestamp']))\n",
    "print( (event['timestamp'][0]-np.mean(event['timestamp']) ) / np.std(event['timestamp']))\n",
    "scaler = StandardScaler()\n",
    "print(scaler.fit_transform(event[['timestamp']]))"
   ]
  },
  {
   "cell_type": "code",
   "execution_count": 53,
   "metadata": {},
   "outputs": [
    {
     "name": "stdout",
     "output_type": "stream",
     "text": [
      "             userId\n",
      "count  1.083071e+06\n",
      "mean   1.239831e+06\n",
      "std    7.914076e+05\n",
      "min    8.000000e+00\n",
      "25%    5.335820e+05\n",
      "50%    1.172044e+06\n",
      "75%    1.938347e+06\n",
      "max    2.688642e+06\n"
     ]
    }
   ],
   "source": [
    "print(event[['userId']].describe())"
   ]
  },
  {
   "cell_type": "code",
   "execution_count": 55,
   "metadata": {},
   "outputs": [
    {
     "name": "stdout",
     "output_type": "stream",
     "text": [
      "   displayId      timestamp   pageId  widgetId   userId  device  OS  browser\n",
      "0    4706262  1578429005696  3543873      6262  2688642       0   0        0\n"
     ]
    }
   ],
   "source": [
    "print(event[event['userId'] == 2688642])"
   ]
  },
  {
   "cell_type": "code",
   "execution_count": 56,
   "metadata": {},
   "outputs": [
    {
     "name": "stdout",
     "output_type": "stream",
     "text": [
      "<class 'pandas.core.frame.DataFrame'>\n",
      "RangeIndex: 1083071 entries, 0 to 1083070\n",
      "Data columns (total 8 columns):\n",
      "displayId    1083071 non-null int64\n",
      "timestamp    1083071 non-null int64\n",
      "pageId       1083071 non-null int64\n",
      "widgetId     1083071 non-null int64\n",
      "userId       1083071 non-null int64\n",
      "device       1083071 non-null int64\n",
      "OS           1083071 non-null int64\n",
      "browser      1083071 non-null int64\n",
      "dtypes: int64(8)\n",
      "memory usage: 66.1 MB\n",
      "None\n"
     ]
    }
   ],
   "source": [
    "print(event.info())"
   ]
  },
  {
   "cell_type": "code",
   "execution_count": 59,
   "metadata": {},
   "outputs": [
    {
     "name": "stdout",
     "output_type": "stream",
     "text": [
      "238697\n"
     ]
    }
   ],
   "source": [
    "print(event['userId'].__len__()-event['userId'].unique().__len__())"
   ]
  },
  {
   "cell_type": "code",
   "execution_count": 1,
   "metadata": {
    "scrolled": true
   },
   "outputs": [
    {
     "ename": "NameError",
     "evalue": "name 'click_train' is not defined",
     "output_type": "error",
     "traceback": [
      "\u001b[0;31m---------------------------------------------------------------------------\u001b[0m",
      "\u001b[0;31mNameError\u001b[0m                                 Traceback (most recent call last)",
      "\u001b[0;32m<ipython-input-1-b019b25cd11d>\u001b[0m in \u001b[0;36m<module>\u001b[0;34m\u001b[0m\n\u001b[0;32m----> 1\u001b[0;31m \u001b[0mprint\u001b[0m\u001b[0;34m(\u001b[0m\u001b[0mclick_train\u001b[0m\u001b[0;34m.\u001b[0m\u001b[0mhead\u001b[0m\u001b[0;34m(\u001b[0m\u001b[0;36m10\u001b[0m\u001b[0;34m)\u001b[0m\u001b[0;34m)\u001b[0m\u001b[0;34m\u001b[0m\u001b[0;34m\u001b[0m\u001b[0m\n\u001b[0m",
      "\u001b[0;31mNameError\u001b[0m: name 'click_train' is not defined"
     ]
    }
   ],
   "source": [
    "print(click_train.head(10))"
   ]
  },
  {
   "cell_type": "code",
   "execution_count": 26,
   "metadata": {},
   "outputs": [
    {
     "name": "stdout",
     "output_type": "stream",
     "text": [
      "   pageId  website  publisher\n",
      "8      10        7          6\n"
     ]
    }
   ],
   "source": [
    "print(page[page['pageId']==10].head())\n",
    "# print(page[page['website']==3].head() )"
   ]
  },
  {
   "cell_type": "code",
   "execution_count": 25,
   "metadata": {},
   "outputs": [
    {
     "name": "stdout",
     "output_type": "stream",
     "text": [
      "          pageId  topicId  confidence\n",
      "28118738      10       44    0.046729\n",
      "28118739      10       38    0.054740\n",
      "28118740      10       36    0.465215\n",
      "28118741      10       18    0.027122\n",
      "28118742      10       13    0.089353\n"
     ]
    }
   ],
   "source": [
    "# print(page_topic.sort_values(by='pageId'))\n",
    "print(page_topic[page_topic['pageId']==10].head())"
   ]
  },
  {
   "cell_type": "code",
   "execution_count": 64,
   "metadata": {},
   "outputs": [
    {
     "name": "stdout",
     "output_type": "stream",
     "text": [
      "     pageId  topicId  confidence\n",
      "0  10743259       37    0.497099\n",
      "1  10743259       23    0.016994\n",
      "2  10743259       10    0.371499\n",
      "3  10743259        4    0.105349\n",
      "4  10743258       33    0.245752\n",
      "     pageId  topicId  confidence\n",
      "0  10743259       37    0.497099\n",
      "1  10743259       23    0.016994\n",
      "2  10743259       10    0.371499\n",
      "3  10743259        4    0.105349\n",
      "4  10743258       33    0.245752\n",
      "5  10743258       28    0.608877\n",
      "6  10743258        5    0.109200\n",
      "   pageId  website  publisher\n",
      "0       1        0          0\n",
      "1       3        1          1\n",
      "2       4        2          2\n",
      "3       5        3          3\n",
      "4       6        4          4\n",
      "     pageId  topicId  confidence  pageId  website  publisher\n",
      "0  10743259       37    0.497099       1        0          0\n",
      "1  10743259       23    0.016994       3        1          1\n",
      "2  10743259       10    0.371499       4        2          2\n",
      "3  10743259        4    0.105349       5        3          3\n",
      "4  10743258       33    0.245752       6        4          4\n"
     ]
    }
   ],
   "source": [
    "\n",
    "x = page_topic.head(5)\n",
    "y = page.head(5)\n",
    "print(x)\n",
    "print(page_topic.iloc[0:7])\n",
    "print(y)\n",
    "print(pd.concat([x,y],axis=1,join='inner'))"
   ]
  },
  {
   "cell_type": "code",
   "execution_count": 37,
   "metadata": {},
   "outputs": [
    {
     "name": "stderr",
     "output_type": "stream",
     "text": [
      "IOPub data rate exceeded.\n",
      "The notebook server will temporarily stop sending output\n",
      "to the client in order to avoid crashing it.\n",
      "To change this limit, set the config variable\n",
      "`--NotebookApp.iopub_data_rate_limit`.\n",
      "\n",
      "Current values:\n",
      "NotebookApp.iopub_data_rate_limit=1000000.0 (bytes/sec)\n",
      "NotebookApp.rate_limit_window=3.0 (secs)\n",
      "\n"
     ]
    }
   ],
   "source": [
    "print(set(page_topic['pageId']))"
   ]
  },
  {
   "cell_type": "code",
   "execution_count": 41,
   "metadata": {},
   "outputs": [
    {
     "name": "stdout",
     "output_type": "stream",
     "text": [
      "            pageId\n",
      "0                1\n",
      "1                3\n",
      "2                4\n",
      "3                5\n",
      "4                6\n",
      "...            ...\n",
      "10779254  10835107\n",
      "10779255  10835108\n",
      "10779256  10835109\n",
      "10779257  10835110\n",
      "10779258  10835111\n",
      "\n",
      "[10779259 rows x 1 columns]\n"
     ]
    }
   ],
   "source": [
    "print(page[['pageId']])"
   ]
  },
  {
   "cell_type": "code",
   "execution_count": 57,
   "metadata": {},
   "outputs": [
    {
     "name": "stdout",
     "output_type": "stream",
     "text": [
      "   displayId      timestamp   pageId  widgetId   userId  device  OS  browser  \\\n",
      "0    4706262  1578429005696  3543873      6262  2688642       0   0        0   \n",
      "1    4706267  1578429007726  6245475       607  2688641       1   3        0   \n",
      "2    4706260  1578429012060  4416499     11458  2688638       0   0        1   \n",
      "3    4706255  1578429017218  6246028      9358  1962852       0   0        0   \n",
      "4    4706256  1578429021388  5327047      9358  2687719       0   0        0   \n",
      "\n",
      "   adId  \n",
      "0     0  \n",
      "1     0  \n",
      "2     0  \n",
      "3     0  \n",
      "4     0  \n",
      "1083071\n",
      "1083071\n"
     ]
    }
   ],
   "source": [
    "print(event.head())\n",
    "print(event['displayId'].__len__())\n",
    "print(event['displayId'].unique().__len__())"
   ]
  },
  {
   "cell_type": "code",
   "execution_count": 43,
   "metadata": {
    "scrolled": true
   },
   "outputs": [
    {
     "name": "stdout",
     "output_type": "stream",
     "text": [
      "   displayId  adId  clicked\n",
      "0    1210227  7182        0\n",
      "1    1210227  7125        0\n",
      "2    1210227  7181        0\n",
      "3    1210227   535        0\n",
      "4    1210227  7174        1\n"
     ]
    }
   ],
   "source": [
    "print(click_train.head())"
   ]
  },
  {
   "cell_type": "code",
   "execution_count": 53,
   "metadata": {},
   "outputs": [
    {
     "name": "stdout",
     "output_type": "stream",
     "text": [
      "    displayId      timestamp   pageId  widgetId   userId  device  OS  browser  \\\n",
      "0     4706262  1578429005696  3543873      6262  2688642       0   0        0   \n",
      "1     4706267  1578429007726  6245475       607  2688641       1   3        0   \n",
      "2     4706260  1578429012060  4416499     11458  2688638       0   0        1   \n",
      "3     4706255  1578429017218  6246028      9358  1962852       0   0        0   \n",
      "4     4706256  1578429021388  5327047      9358  2687719       0   0        0   \n",
      "5     4706235  1578429023501  6245689      9358  2688634       0   0        0   \n",
      "6     4706181  1578429029640    83625      5802  2688629       0   0        5   \n",
      "7     4706228  1578429035793  4096624     11458   745082       1   1        4   \n",
      "8     4706234  1578429036317  6244430      7691  2688626       0   0        0   \n",
      "9     4706237  1578429039027  6246028      9358   804452       1   1        0   \n",
      "10    4706220  1578429049353  5826626      1882  2688511       0   0        5   \n",
      "11    4706211  1578429049596  6244430      7691  2688618       0   0        1   \n",
      "12    4706189  1578429059848  6244430      7691  2687999       0   0        1   \n",
      "13    4706180  1578429060680  4096624     13208  2688484       1   1        0   \n",
      "14    4706200  1578429061204  6245932      7691    88708       0   0        0   \n",
      "15    4706173  1578429064595  6243998      6951  2688608       0   0        0   \n",
      "16    4706187  1578429068198  5420481     14195  2688607       0   0        1   \n",
      "17    4706176  1578429070914  6106989     10184     3256       0   0        0   \n",
      "18    4706158  1578429080610    41933      1422  2688602       0   2        2   \n",
      "19    4706147  1578429091628     8626      8139  2688593       0   0        1   \n",
      "20    4706160  1578429094674  6207847     14195  2138111       0   0        0   \n",
      "21    4706146  1578429099618  5213595     11401  2688589       1   1        4   \n",
      "22    4706148  1578429102122  6133771     12776   690264       0   0        0   \n",
      "23    4706143  1578429102271    74091      1765  2688556       0   0        5   \n",
      "24    4706153  1578429103369  5398935      8893  2688585       0   0        0   \n",
      "25    4706108  1578429104888     8116      8142  2688584       0   0        4   \n",
      "26    4706138  1578429116843  6122132      9358  2688578       0   0        0   \n",
      "27    4706132  1578429119148  6079243      7691  2687358       0   0        0   \n",
      "28    4706123  1578429125019    74091      1765  2688556       0   0        5   \n",
      "29    4706124  1578429125019    74091      1765  2688556       0   0        5   \n",
      "30    4706058  1578429128284  6244920      1882  2688572       0   0        1   \n",
      "31    4706116  1578429138127  6078773     13244  2688569       0   0        0   \n",
      "32    4706105  1578429154718  6087158      3505  2546238       0   0        0   \n",
      "33    4706094  1578429159699    74091      1765  2688556       0   0        5   \n",
      "34    4706069  1578429162985  6142639     11571  1285637       0   0        0   \n",
      "35    4705940  1578429165084  5576357     12777  2688552       0   0       11   \n",
      "36    4706078  1578429165618  5969961     14284   904535       0   0        0   \n",
      "37    4706064  1578429171304  6149383      6333  2688547       0   0        0   \n",
      "38    4706079  1578429171664  4094218     11558  2688546       0   0        1   \n",
      "39    4706042  1578429178803     1455     10527  2688540       0   2        9   \n",
      "\n",
      "    adId  \n",
      "0      0  \n",
      "1      0  \n",
      "2      0  \n",
      "3      0  \n",
      "4      0  \n",
      "5      0  \n",
      "6      0  \n",
      "7      0  \n",
      "8      0  \n",
      "9      0  \n",
      "10     0  \n",
      "11     0  \n",
      "12     0  \n",
      "13     0  \n",
      "14     0  \n",
      "15     0  \n",
      "16     0  \n",
      "17     0  \n",
      "18     0  \n",
      "19     0  \n",
      "20     0  \n",
      "21     0  \n",
      "22     0  \n",
      "23     0  \n",
      "24     0  \n",
      "25     0  \n",
      "26     0  \n",
      "27     0  \n",
      "28     0  \n",
      "29     0  \n",
      "30     0  \n",
      "31     0  \n",
      "32     0  \n",
      "33     0  \n",
      "34     0  \n",
      "35     0  \n",
      "36     0  \n",
      "37     0  \n",
      "38     0  \n",
      "39     0  \n"
     ]
    }
   ],
   "source": [
    "event_and_click_train = event \n",
    "event_and_click_train['adId'] = 0 \n",
    "# print(event_and_click_train.head(40))\n",
    "displayids = event['displayId'].unique()\n",
    "for disid in displayids :\n",
    "    \n",
    "    "
   ]
  },
  {
   "cell_type": "code",
   "execution_count": 56,
   "metadata": {},
   "outputs": [],
   "source": [
    "import seaborn as sns"
   ]
  },
  {
   "cell_type": "code",
   "execution_count": 55,
   "metadata": {},
   "outputs": [
    {
     "ename": "NameError",
     "evalue": "name 'sns' is not defined",
     "output_type": "error",
     "traceback": [
      "\u001b[0;31m---------------------------------------------------------------------------\u001b[0m",
      "\u001b[0;31mNameError\u001b[0m                                 Traceback (most recent call last)",
      "\u001b[0;32m<ipython-input-55-92a08c024d98>\u001b[0m in \u001b[0;36m<module>\u001b[0;34m\u001b[0m\n\u001b[1;32m      1\u001b[0m \u001b[0mget_ipython\u001b[0m\u001b[0;34m(\u001b[0m\u001b[0;34m)\u001b[0m\u001b[0;34m.\u001b[0m\u001b[0mrun_line_magic\u001b[0m\u001b[0;34m(\u001b[0m\u001b[0;34m'matplotlib'\u001b[0m\u001b[0;34m,\u001b[0m \u001b[0;34m'inline'\u001b[0m\u001b[0;34m)\u001b[0m\u001b[0;34m\u001b[0m\u001b[0;34m\u001b[0m\u001b[0m\n\u001b[0;32m----> 2\u001b[0;31m \u001b[0msns\u001b[0m\u001b[0;34m\u001b[0m\u001b[0;34m\u001b[0m\u001b[0m\n\u001b[0m",
      "\u001b[0;31mNameError\u001b[0m: name 'sns' is not defined"
     ]
    }
   ],
   "source": [
    "%matplotlib inline\n",
    "plt.hist()"
   ]
  }
 ],
 "metadata": {
  "kernelspec": {
   "display_name": "Python 3",
   "language": "python",
   "name": "python3"
  },
  "language_info": {
   "codemirror_mode": {
    "name": "ipython",
    "version": 3
   },
   "file_extension": ".py",
   "mimetype": "text/x-python",
   "name": "python",
   "nbconvert_exporter": "python",
   "pygments_lexer": "ipython3",
   "version": "3.7.4"
  }
 },
 "nbformat": 4,
 "nbformat_minor": 2
}
